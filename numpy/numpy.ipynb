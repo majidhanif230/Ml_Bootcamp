{
 "cells": [
  {
   "cell_type": "markdown",
   "id": "6293cc50",
   "metadata": {},
   "source": [
    "# 100 numpy exercises\n",
    "\n",
    "This is a collection of exercises that have been collected in the numpy mailing list, on stack overflow\n",
    "and in the numpy documentation. The goal of this collection is to offer a quick reference for both old\n",
    "and new users but also to provide a set of exercises for those who teach."
   ]
  },
  {
   "cell_type": "markdown",
   "id": "a167c052",
   "metadata": {},
   "source": [
    "File automatically generated. See the documentation to update questions/answers/hints programmatically."
   ]
  },
  {
   "cell_type": "markdown",
   "id": "3c1222ff",
   "metadata": {},
   "source": [
    "#### 1. Import the numpy package under the name `np` "
   ]
  },
  {
   "cell_type": "code",
   "execution_count": 14,
   "id": "f52e6a0b",
   "metadata": {},
   "outputs": [],
   "source": [
    "import numpy as np"
   ]
  },
  {
   "cell_type": "markdown",
   "id": "9d9f4753",
   "metadata": {},
   "source": [
    "#### 2. Print the numpy version and the configuration"
   ]
  },
  {
   "cell_type": "code",
   "execution_count": 15,
   "id": "b7fa5fa1",
   "metadata": {},
   "outputs": [
    {
     "name": "stdout",
     "output_type": "stream",
     "text": [
      "Name: numpy\n",
      "Version: 1.24.3\n",
      "Summary: Fundamental package for array computing in Python\n",
      "Home-page: https://www.numpy.org\n",
      "Author: Travis E. Oliphant et al.\n",
      "Author-email: \n",
      "License: BSD-3-Clause\n",
      "Location: c:\\Users\\majid\\anaconda3\\Lib\\site-packages\n",
      "Requires: \n",
      "Required-by: astropy, bokeh, Bottleneck, contourpy, cvzone, daal4py, datasets, datashader, datashape, gensim, h5py, holoviews, hvplot, imagecodecs, imageio, imbalanced-learn, keras, matplotlib, mkl-fft, mkl-random, ml-dtypes, numba, numexpr, opencv-python, opt-einsum, pandas, patsy, pyarrow, pyerfa, PyWavelets, scikit-image, scikit-learn, scipy, seaborn, statsmodels, tables, tensorboard, tensorflow-intel, tifffile, torchvision, transformers, xarray\n",
      "Note: you may need to restart the kernel to use updated packages.\n"
     ]
    }
   ],
   "source": [
    "pip show numpy"
   ]
  },
  {
   "cell_type": "markdown",
   "id": "3e4c23c6",
   "metadata": {},
   "source": [
    "#### 3. Create a null vector of size 10"
   ]
  },
  {
   "cell_type": "code",
   "execution_count": 16,
   "id": "083c5c46",
   "metadata": {},
   "outputs": [
    {
     "name": "stdout",
     "output_type": "stream",
     "text": [
      "[0. 0. 0. 0. 0. 0. 0. 0. 0. 0.]\n"
     ]
    }
   ],
   "source": [
    "null_vector = np.zeros(10)\n",
    "print(null_vector)"
   ]
  },
  {
   "cell_type": "markdown",
   "id": "c38bbe82",
   "metadata": {},
   "source": [
    "#### 4. How to find the memory size of any array "
   ]
  },
  {
   "cell_type": "code",
   "execution_count": 17,
   "id": "02b04021",
   "metadata": {},
   "outputs": [
    {
     "name": "stdout",
     "output_type": "stream",
     "text": [
      "[100  20  34  50]\n",
      "Data type of array elements: int32\n",
      "Memory size of a NumPy array: 16\n"
     ]
    }
   ],
   "source": [
    "x = np.array([100, 20, 34,50])\n",
    "print(x)\n",
    "print(\"Data type of array elements:\", x.dtype)\n",
    " \n",
    "print(\"Memory size of a NumPy array:\",\n",
    "      x.nbytes)"
   ]
  },
  {
   "cell_type": "markdown",
   "id": "67f893d4",
   "metadata": {},
   "source": [
    "#### 5. How to get the documentation of the numpy add function from the command line?"
   ]
  },
  {
   "cell_type": "code",
   "execution_count": 18,
   "id": "40e6b70d",
   "metadata": {},
   "outputs": [
    {
     "name": "stdout",
     "output_type": "stream",
     "text": [
      "Numpy documentation function\n"
     ]
    },
    {
     "data": {
      "text/plain": [
       "'\\nNumPy\\n=====\\n\\nProvides\\n  1. An array object of arbitrary homogeneous items\\n  2. Fast mathematical operations over arrays\\n  3. Linear Algebra, Fourier Transforms, Random Number Generation\\n\\nHow to use the documentation\\n----------------------------\\nDocumentation is available in two forms: docstrings provided\\nwith the code, and a loose standing reference guide, available from\\n`the NumPy homepage <https://numpy.org>`_.\\n\\nWe recommend exploring the docstrings using\\n`IPython <https://ipython.org>`_, an advanced Python shell with\\nTAB-completion and introspection capabilities.  See below for further\\ninstructions.\\n\\nThe docstring examples assume that `numpy` has been imported as ``np``::\\n\\n  >>> import numpy as np\\n\\nCode snippets are indicated by three greater-than signs::\\n\\n  >>> x = 42\\n  >>> x = x + 1\\n\\nUse the built-in ``help`` function to view a function\\'s docstring::\\n\\n  >>> help(np.sort)\\n  ... # doctest: +SKIP\\n\\nFor some objects, ``np.info(obj)`` may provide additional help.  This is\\nparticularly true if you see the line \"Help on ufunc object:\" at the top\\nof the help() page.  Ufuncs are implemented in C, not Python, for speed.\\nThe native Python help() does not know how to view their help, but our\\nnp.info() function does.\\n\\nTo search for documents containing a keyword, do::\\n\\n  >>> np.lookfor(\\'keyword\\')\\n  ... # doctest: +SKIP\\n\\nGeneral-purpose documents like a glossary and help on the basic concepts\\nof numpy are available under the ``doc`` sub-module::\\n\\n  >>> from numpy import doc\\n  >>> help(doc)\\n  ... # doctest: +SKIP\\n\\nAvailable subpackages\\n---------------------\\nlib\\n    Basic functions used by several sub-packages.\\nrandom\\n    Core Random Tools\\nlinalg\\n    Core Linear Algebra Tools\\nfft\\n    Core FFT routines\\npolynomial\\n    Polynomial tools\\ntesting\\n    NumPy testing tools\\ndistutils\\n    Enhancements to distutils with support for\\n    Fortran compilers support and more.\\n\\nUtilities\\n---------\\ntest\\n    Run numpy unittests\\nshow_config\\n    Show numpy build configuration\\ndual\\n    Overwrite certain functions with high-performance SciPy tools.\\n    Note: `numpy.dual` is deprecated.  Use the functions from NumPy or Scipy\\n    directly instead of importing them from `numpy.dual`.\\nmatlib\\n    Make everything matrices.\\n__version__\\n    NumPy version string\\n\\nViewing documentation using IPython\\n-----------------------------------\\n\\nStart IPython and import `numpy` usually under the alias ``np``: `import\\nnumpy as np`.  Then, directly past or use the ``%cpaste`` magic to paste\\nexamples into the shell.  To see which functions are available in `numpy`,\\ntype ``np.<TAB>`` (where ``<TAB>`` refers to the TAB key), or use\\n``np.*cos*?<ENTER>`` (where ``<ENTER>`` refers to the ENTER key) to narrow\\ndown the list.  To view the docstring for a function, use\\n``np.cos?<ENTER>`` (to view the docstring) and ``np.cos??<ENTER>`` (to view\\nthe source code).\\n\\nCopies vs. in-place operation\\n-----------------------------\\nMost of the functions in `numpy` return a copy of the array argument\\n(e.g., `np.sort`).  In-place versions of these functions are often\\navailable as array methods, i.e. ``x = np.array([1,2,3]); x.sort()``.\\nExceptions to this rule are documented.\\n\\n'"
      ]
     },
     "execution_count": 18,
     "metadata": {},
     "output_type": "execute_result"
    }
   ],
   "source": [
    "print(\"Numpy documentation function\")\n",
    "np.__doc__"
   ]
  },
  {
   "cell_type": "markdown",
   "id": "e0c739c6",
   "metadata": {},
   "source": [
    "#### 6. Create a null vector of size 10 but the fifth value which is 1"
   ]
  },
  {
   "cell_type": "code",
   "execution_count": 19,
   "id": "bcceacf7",
   "metadata": {},
   "outputs": [
    {
     "name": "stdout",
     "output_type": "stream",
     "text": [
      "[0. 0. 0. 0. 1. 0. 0. 0. 0. 0.]\n"
     ]
    }
   ],
   "source": [
    "x= np.zeros(10)\n",
    "x[4] = 1\n",
    "print(x)\n"
   ]
  },
  {
   "cell_type": "markdown",
   "id": "fbebedab",
   "metadata": {},
   "source": [
    "#### 7. Create a vector with values ranging from 10 to 49"
   ]
  },
  {
   "cell_type": "code",
   "execution_count": 20,
   "id": "3d117d54",
   "metadata": {},
   "outputs": [
    {
     "name": "stdout",
     "output_type": "stream",
     "text": [
      "[10 11 12 13 14 15 16 17 18 19 20 21 22 23 24 25 26 27 28 29 30 31 32 33\n",
      " 34 35 36 37 38 39 40 41 42 43 44 45 46 47 48]\n"
     ]
    }
   ],
   "source": [
    "x = np.arange(10,49,1)\n",
    "print(x)"
   ]
  },
  {
   "cell_type": "markdown",
   "id": "ad0bff02",
   "metadata": {},
   "source": [
    "#### 8. Reverse a vector (first element becomes last)"
   ]
  },
  {
   "cell_type": "code",
   "execution_count": 21,
   "id": "22d23470",
   "metadata": {},
   "outputs": [
    {
     "name": "stdout",
     "output_type": "stream",
     "text": [
      "final array [8 3 8 6 5 3 1]\n"
     ]
    }
   ],
   "source": [
    "\n",
    "import numpy as np\n",
    " \n",
    "# initialising numpy array\n",
    "ini_array = np.array([1,3,5,6,8,3,8])\n",
    " \n",
    "# using shortcut method to reverse\n",
    "res = np.flip(ini_array)\n",
    " \n",
    "# printing result\n",
    "print(\"final array\", res)\n"
   ]
  },
  {
   "cell_type": "markdown",
   "id": "9f59d7e1",
   "metadata": {},
   "source": [
    "#### 9. Create a 3x3 matrix with values ranging from 0 to 8"
   ]
  },
  {
   "cell_type": "code",
   "execution_count": 22,
   "id": "7449e82d",
   "metadata": {},
   "outputs": [
    {
     "name": "stdout",
     "output_type": "stream",
     "text": [
      "[[ 2  3  4]\n",
      " [ 5  6  7]\n",
      " [ 8  9 10]]\n"
     ]
    }
   ],
   "source": [
    "x = np.arange(2, 11).reshape(3, 3)\n",
    "print(x)\n"
   ]
  },
  {
   "cell_type": "markdown",
   "id": "f374c4cf",
   "metadata": {},
   "source": [
    "#### 10. Find indices of non-zero elements from [1,2,0,0,4,0] "
   ]
  },
  {
   "cell_type": "code",
   "execution_count": 23,
   "id": "1a84bed8",
   "metadata": {},
   "outputs": [
    {
     "name": "stdout",
     "output_type": "stream",
     "text": [
      "[0 1 4]\n"
     ]
    }
   ],
   "source": [
    "x = np.array([1, 2, 0, 0, 4, 0])\n",
    "y = np.nonzero(x)[0]\n",
    "print(y)"
   ]
  },
  {
   "cell_type": "markdown",
   "id": "9c4707f5",
   "metadata": {},
   "source": [
    "#### 11. Create a 3x3 identity matrix"
   ]
  },
  {
   "cell_type": "code",
   "execution_count": 24,
   "id": "29dc1fd3",
   "metadata": {},
   "outputs": [
    {
     "data": {
      "text/plain": [
       "array([[1., 0., 0.],\n",
       "       [0., 1., 0.],\n",
       "       [0., 0., 1.]])"
      ]
     },
     "execution_count": 24,
     "metadata": {},
     "output_type": "execute_result"
    }
   ],
   "source": [
    "np.identity(3)\n"
   ]
  },
  {
   "cell_type": "markdown",
   "id": "3bac294a",
   "metadata": {},
   "source": [
    "#### 12. Create a 3x3x3 array with random values"
   ]
  },
  {
   "cell_type": "code",
   "execution_count": 25,
   "id": "eadfae67",
   "metadata": {},
   "outputs": [
    {
     "name": "stdout",
     "output_type": "stream",
     "text": [
      "[[[0.02756721 0.61164587 0.72424953]\n",
      "  [0.24946933 0.54097236 0.35597479]\n",
      "  [0.55204531 0.99394443 0.30181078]]\n",
      "\n",
      " [[0.56816194 0.8559177  0.85917172]\n",
      "  [0.39639355 0.19062595 0.42892491]\n",
      "  [0.83039794 0.01179491 0.88052109]]\n",
      "\n",
      " [[0.43078777 0.83592701 0.73759747]\n",
      "  [0.16712099 0.3603176  0.40803756]\n",
      "  [0.06212095 0.77354152 0.78542682]]]\n"
     ]
    }
   ],
   "source": [
    "x = np.random.random([3,3,3])\n",
    "print(x)"
   ]
  },
  {
   "cell_type": "markdown",
   "id": "466c2989",
   "metadata": {},
   "source": [
    "#### 13. Create a 10x10 array with random values and find the minimum and maximum values"
   ]
  },
  {
   "cell_type": "code",
   "execution_count": 26,
   "id": "9a74dbfc",
   "metadata": {},
   "outputs": [
    {
     "name": "stdout",
     "output_type": "stream",
     "text": [
      "minimum value\n",
      "0.0007568051753537031\n",
      "maximum value\n",
      "0.9992327014465292\n"
     ]
    }
   ],
   "source": [
    "x = np.random.random([10,10])\n",
    "minim = x.min()\n",
    "maxim = x.max()\n",
    "print(\"minimum value\")\n",
    "print(minim)\n",
    "print(\"maximum value\")\n",
    "print(maxim)\n"
   ]
  },
  {
   "cell_type": "markdown",
   "id": "53a8edb2",
   "metadata": {},
   "source": [
    "#### 14. Create a random vector of size 30 and find the mean value"
   ]
  },
  {
   "cell_type": "code",
   "execution_count": 27,
   "id": "6691530b",
   "metadata": {},
   "outputs": [
    {
     "name": "stdout",
     "output_type": "stream",
     "text": [
      "0.4371643453512039\n"
     ]
    }
   ],
   "source": [
    "x = np.random.random(30)\n",
    "mean_value =x.mean()\n",
    "print(mean_value)"
   ]
  },
  {
   "cell_type": "markdown",
   "id": "cbaad31c",
   "metadata": {},
   "source": [
    "#### 15. Create a 2d array with 1 on the border and 0 inside"
   ]
  },
  {
   "cell_type": "code",
   "execution_count": 28,
   "id": "ad8308e3",
   "metadata": {},
   "outputs": [
    {
     "name": "stdout",
     "output_type": "stream",
     "text": [
      "[[1. 1. 1. 1. 1.]\n",
      " [1. 0. 0. 0. 1.]\n",
      " [1. 0. 0. 0. 1.]\n",
      " [1. 0. 0. 0. 1.]\n",
      " [1. 1. 1. 1. 1.]]\n"
     ]
    }
   ],
   "source": [
    "x = np.zeros((5, 5))\n",
    "\n",
    "\n",
    "x[0, :] = 1 \n",
    "x[-1, :] = 1  \n",
    "x[:, 0] = 1    \n",
    "x[:, -1] = 1   \n",
    "\n",
    "print(x)\n"
   ]
  },
  {
   "cell_type": "markdown",
   "id": "4d746367",
   "metadata": {},
   "source": [
    "```\n",
    "[[1. 1. 1. 1. 1. 1. 1. 1. 1. 1.]\n",
    " [1. 0. 0. 0. 0. 0. 0. 0. 0. 1.]\n",
    " [1. 0. 0. 0. 0. 0. 0. 0. 0. 1.]\n",
    " [1. 0. 0. 0. 0. 0. 0. 0. 0. 1.]\n",
    " [1. 0. 0. 0. 0. 0. 0. 0. 0. 1.]\n",
    " [1. 0. 0. 0. 0. 0. 0. 0. 0. 1.]\n",
    " [1. 0. 0. 0. 0. 0. 0. 0. 0. 1.]\n",
    " [1. 0. 0. 0. 0. 0. 0. 0. 0. 1.]\n",
    " [1. 0. 0. 0. 0. 0. 0. 0. 0. 1.]\n",
    " [1. 1. 1. 1. 1. 1. 1. 1. 1. 1.]]\n",
    "```"
   ]
  },
  {
   "cell_type": "markdown",
   "id": "c5ecc267",
   "metadata": {},
   "source": [
    "#### 16. How to add a border (filled with 0's) around an existing array?"
   ]
  },
  {
   "cell_type": "markdown",
   "id": "4d2f95bc",
   "metadata": {},
   "source": []
  },
  {
   "cell_type": "code",
   "execution_count": 29,
   "id": "9d5c78c4",
   "metadata": {},
   "outputs": [
    {
     "name": "stdout",
     "output_type": "stream",
     "text": [
      "[[0. 0. 0. 0. 0. 0. 0. 0. 0. 0.]\n",
      " [0. 0. 0. 0. 0. 0. 0. 0. 0. 0.]\n",
      " [0. 0. 0. 0. 0. 0. 0. 0. 0. 0.]\n",
      " [0. 0. 0. 0. 0. 0. 0. 0. 0. 0.]\n",
      " [0. 0. 0. 0. 0. 0. 0. 0. 0. 0.]\n",
      " [0. 0. 0. 0. 0. 0. 0. 0. 0. 0.]\n",
      " [0. 0. 0. 0. 0. 0. 0. 0. 0. 0.]\n",
      " [0. 0. 0. 0. 0. 0. 0. 0. 0. 0.]\n",
      " [0. 0. 0. 0. 0. 0. 0. 0. 0. 0.]\n",
      " [0. 0. 0. 0. 0. 0. 0. 0. 0. 0.]]\n"
     ]
    }
   ],
   "source": [
    "x = np.array([[1., 1., 1., 1., 1., 1., 1., 1., 1., 1.],\n",
    "                           [1., 0., 0., 0., 0., 0., 0., 0., 0., 1.],\n",
    "                           [1., 0., 0., 0., 0., 0., 0., 0., 0., 1.],\n",
    "                           [1., 0., 0., 0., 0., 0., 0., 0., 0., 1.],\n",
    "                           [1., 0., 0., 0., 0., 0., 0., 0., 0., 1.],\n",
    "                           [1., 0., 0., 0., 0., 0., 0., 0., 0., 1.],\n",
    "                           [1., 0., 0., 0., 0., 0., 0., 0., 0., 1.],\n",
    "                           [1., 0., 0., 0., 0., 0., 0., 0., 0., 1.],\n",
    "                           [1., 0., 0., 0., 0., 0., 0., 0., 0., 1.],\n",
    "                           [1., 1., 1., 1., 1., 1., 1., 1., 1., 1.]])\n",
    "x[0, :] = 0\n",
    "x[-1, :] = 0\n",
    "x[:, 0] = 0    \n",
    "x[:, -1] = 0\n",
    "\n",
    "print(x)"
   ]
  },
  {
   "cell_type": "markdown",
   "id": "ef909b72",
   "metadata": {},
   "source": [
    "#### 17. What is the result of the following expression?\n",
    "```python\n",
    "0 * np.nan\n",
    "np.nan == np.nan\n",
    "np.inf > np.nan\n",
    "np.nan - np.nan\n",
    "np.nan in set([np.nan])\n",
    "0.3 == 3 * 0.1\n",
    "```"
   ]
  },
  {
   "cell_type": "code",
   "execution_count": 30,
   "id": "3b4985f2",
   "metadata": {},
   "outputs": [
    {
     "name": "stdout",
     "output_type": "stream",
     "text": [
      "nan\n",
      "False\n",
      "False\n",
      "nan\n",
      "True\n",
      "False\n"
     ]
    }
   ],
   "source": [
    "print(0 * np.nan)          \n",
    "print(np.nan == np.nan)    \n",
    "print(np.inf > np.nan)      \n",
    "print(np.nan - np.nan)      \n",
    "print(np.nan in set([np.nan]))  \n",
    "print(0.3 == 3 * 0.1)       \n"
   ]
  },
  {
   "cell_type": "markdown",
   "id": "502738ac",
   "metadata": {},
   "source": [
    "#### 18. Create a 5x5 matrix with values 1,2,3,4 just below the diagonal"
   ]
  },
  {
   "cell_type": "code",
   "execution_count": 31,
   "id": "faed6e2b",
   "metadata": {},
   "outputs": [
    {
     "name": "stdout",
     "output_type": "stream",
     "text": [
      "[[0. 0. 0. 0. 0.]\n",
      " [1. 0. 0. 0. 0.]\n",
      " [0. 2. 0. 0. 0.]\n",
      " [0. 0. 3. 0. 0.]\n",
      " [0. 0. 0. 4. 0.]]\n"
     ]
    }
   ],
   "source": [
    "x= np.zeros((5,5))\n",
    "np.fill_diagonal(x[1:],[1,2,3,4])\n",
    "\n",
    "print(x)"
   ]
  },
  {
   "cell_type": "markdown",
   "id": "a65da660",
   "metadata": {},
   "source": [
    "#### 19. Create a 8x8 matrix and fill it with a checkerboard pattern"
   ]
  },
  {
   "cell_type": "code",
   "execution_count": 32,
   "id": "ed150400",
   "metadata": {},
   "outputs": [
    {
     "name": "stdout",
     "output_type": "stream",
     "text": [
      "[[0. 0. 0. 0. 0. 0. 0. 0.]\n",
      " [0. 1. 0. 1. 0. 1. 0. 1.]\n",
      " [1. 0. 1. 0. 1. 0. 1. 0.]\n",
      " [1. 1. 1. 1. 1. 1. 1. 1.]\n",
      " [1. 0. 1. 0. 1. 0. 1. 0.]\n",
      " [1. 1. 1. 1. 1. 1. 1. 1.]\n",
      " [1. 0. 1. 0. 1. 0. 1. 0.]\n",
      " [1. 1. 1. 1. 1. 1. 1. 1.]]\n"
     ]
    }
   ],
   "source": [
    "x =np.zeros((8,8))\n",
    "x[2::1, ::2] = 1  # Fill even rows and even columns with 1\n",
    "x[1::2, 1::2] = 1  # Fill odd rows and odd columns with 1 \n",
    "print(x)\n"
   ]
  },
  {
   "cell_type": "code",
   "execution_count": null,
   "id": "3782b5a9",
   "metadata": {},
   "outputs": [],
   "source": []
  },
  {
   "cell_type": "markdown",
   "id": "66bfda35",
   "metadata": {},
   "source": [
    "#### 21. Create a checkerboard 8x8 matrix using the tile function"
   ]
  },
  {
   "cell_type": "code",
   "execution_count": 33,
   "id": "4c07477c",
   "metadata": {},
   "outputs": [
    {
     "name": "stdout",
     "output_type": "stream",
     "text": [
      "[[0 1 0 1 0 1]\n",
      " [1 0 1 0 1 0]\n",
      " [0 1 0 1 0 1]\n",
      " [1 0 1 0 1 0]\n",
      " [0 1 0 1 0 1]\n",
      " [1 0 1 0 1 0]]\n"
     ]
    }
   ],
   "source": [
    "import numpy as np\n",
    "\n",
    "tile = np.array([[0, 1], [1, 0]])\n",
    "\n",
    "checkerboard = np.tile(tile, (3, 3))\n",
    "\n",
    "print(checkerboard)\n"
   ]
  },
  {
   "cell_type": "markdown",
   "id": "d5bcfc08",
   "metadata": {},
   "source": [
    "#### 22. Normalize a 5x5 random matrix"
   ]
  },
  {
   "cell_type": "code",
   "execution_count": 34,
   "id": "cea6c993",
   "metadata": {},
   "outputs": [
    {
     "name": "stdout",
     "output_type": "stream",
     "text": [
      "Original Matrix:\n",
      "[[0.04433107 0.01278542 0.65961324 0.99383837 0.16764146]\n",
      " [0.17232656 0.21866716 0.0384375  0.27856502 0.55152524]\n",
      " [0.1868553  0.80380248 0.98738073 0.8961117  0.23891211]\n",
      " [0.79293949 0.50889195 0.96223331 0.85016912 0.80635764]\n",
      " [0.15860613 0.18358963 0.43861911 0.89818626 0.55383379]]\n",
      "\n",
      "Normalized Matrix:\n",
      "[[0.03215489 0.         0.65931999 1.         0.15784677]\n",
      " [0.16262235 0.20985793 0.0261475  0.2709126  0.54914448]\n",
      " [0.17743169 0.80629395 0.99341764 0.90038594 0.23049387]\n",
      " [0.79522116 0.50568782 0.96778455 0.85355607 0.80889846]\n",
      " [0.14863695 0.17410295 0.43405781 0.90250056 0.55149762]]\n"
     ]
    }
   ],
   "source": [
    "import numpy as np\n",
    "matrix = np.random.random((5, 5))\n",
    "normalized_matrix = (matrix - np.min(matrix)) / (np.max(matrix) - np.min(matrix))\n",
    "\n",
    "print(\"Original Matrix:\")\n",
    "print(matrix)\n",
    "print(\"\\nNormalized Matrix:\")\n",
    "print(normalized_matrix)\n"
   ]
  },
  {
   "cell_type": "markdown",
   "id": "f9a0911e",
   "metadata": {},
   "source": [
    "#### 23. Create a custom dtype that describes a color as four unsigned bytes (RGBA)"
   ]
  },
  {
   "cell_type": "code",
   "execution_count": 35,
   "id": "d165044b",
   "metadata": {},
   "outputs": [
    {
     "name": "stdout",
     "output_type": "stream",
     "text": [
      "[(255,   0,   0, 255) (  0, 255,   0, 255) (  0,   0, 255, 255)\n",
      " (255, 255,   0, 255) (255, 255, 255, 255)]\n"
     ]
    }
   ],
   "source": [
    "import numpy as np\n",
    "\n",
    "# Define the custom dtype for RGBA colors\n",
    "rgba_dtype = np.dtype([\n",
    "    ('r', np.uint8),  # Red channel\n",
    "    ('g', np.uint8),  # Green channel\n",
    "    ('b', np.uint8),  # Blue channel\n",
    "    ('a', np.uint8)   # Alpha channel\n",
    "])\n",
    "\n",
    "# Create an array of colors using the custom dtype\n",
    "colors = np.array([\n",
    "    (255, 0, 0, 255),   # Red\n",
    "    (0, 255, 0, 255),   # Green\n",
    "    (0, 0, 255, 255),   # Blue\n",
    "    (255, 255, 0, 255), # Yellow\n",
    "    (255, 255, 255, 255) # White\n",
    "], dtype=rgba_dtype)\n",
    "\n",
    "# Print the array\n",
    "print(colors)\n"
   ]
  },
  {
   "cell_type": "code",
   "execution_count": null,
   "id": "750a3e68",
   "metadata": {},
   "outputs": [],
   "source": []
  },
  {
   "cell_type": "markdown",
   "id": "654805b1",
   "metadata": {},
   "source": [
    "#### 24. Multiply a 5x3 matrix by a 3x2 matrix (real matrix product)\n"
   ]
  },
  {
   "cell_type": "code",
   "execution_count": 36,
   "id": "6a42619f",
   "metadata": {},
   "outputs": [
    {
     "name": "stdout",
     "output_type": "stream",
     "text": [
      "Product of array: \n",
      "[[12 15]\n",
      " [10 11]\n",
      " [16 19]\n",
      " [12 14]\n",
      " [10 11]]\n"
     ]
    }
   ],
   "source": [
    "x = np.random.randint(1,4, size=(5,3))\n",
    "y = np.random.randint(2,4,size=(3,2))\n",
    "z = np.dot(x,y)\n",
    "print(\"Product of array: \")\n",
    "print(z)"
   ]
  },
  {
   "cell_type": "markdown",
   "id": "994c25df",
   "metadata": {},
   "source": [
    "#### 25. Given a 1D array, negate all elements which are between 3 and 8, in place."
   ]
  },
  {
   "cell_type": "code",
   "execution_count": 37,
   "id": "e4b39c03",
   "metadata": {},
   "outputs": [
    {
     "name": "stdout",
     "output_type": "stream",
     "text": [
      "[ 0  1  2 -3 -4 -5 -6 -7]\n"
     ]
    }
   ],
   "source": [
    "a = np.arange(8)\n",
    "a[3:8] = np.negative(a[3:8])\n",
    "print(a)"
   ]
  },
  {
   "cell_type": "markdown",
   "id": "b7d15d1a",
   "metadata": {},
   "source": [
    "#### 26. What is the output of the following script?\n",
    "```python\n",
    "# Author: Jake VanderPlas\n",
    "\n",
    "print(sum(range(5),-1))\n",
    "from numpy import *\n",
    "print(sum(range(5),-1))\n",
    "```"
   ]
  },
  {
   "cell_type": "code",
   "execution_count": 38,
   "id": "4c95bc3f",
   "metadata": {},
   "outputs": [
    {
     "name": "stdout",
     "output_type": "stream",
     "text": [
      "9\n",
      "10\n"
     ]
    }
   ],
   "source": [
    "print(sum(range(5),-1)) #it give 9 result\n",
    "from numpy import *\n",
    "print(sum(range(5),-1)) # it give 10 result in numpy -1 will represent axis"
   ]
  },
  {
   "cell_type": "code",
   "execution_count": null,
   "id": "9c4fcdc8",
   "metadata": {},
   "outputs": [],
   "source": []
  },
  {
   "cell_type": "markdown",
   "id": "a34f0d08",
   "metadata": {},
   "source": [
    "#### 27. Consider an integer vector Z, which of these expressions are legal?\n",
    "```python\n",
    "Z**Z\n",
    "2 << Z >> 2\n",
    "Z <- Z\n",
    "1j*Z\n",
    "Z/1/1\n",
    "Z<Z>Z\n",
    "```"
   ]
  },
  {
   "cell_type": "code",
   "execution_count": 39,
   "id": "564658fc",
   "metadata": {},
   "outputs": [
    {
     "data": {
      "text/plain": [
       "'All the given expressions (Z ** Z, 2 << Z >> 2, Z < -Z, 1j * Z, Z / 1 / 1, Z < Z < Z) are legal in Python for an integer vector Z'"
      ]
     },
     "execution_count": 39,
     "metadata": {},
     "output_type": "execute_result"
    }
   ],
   "source": [
    "\"\"\"All the given expressions (Z ** Z, 2 << Z >> 2, Z < -Z, 1j * Z, Z / 1 / 1, Z < Z < Z) are legal in Python for an integer vector Z\"\"\""
   ]
  },
  {
   "cell_type": "markdown",
   "id": "c34e94bf",
   "metadata": {},
   "source": [
    "#### 28. What are the result of the following expressions?\n",
    "```python\n",
    "np.array(0) / np.array(0)\n",
    "np.array(0) // np.array(0)\n",
    "np.array([np.nan]).astype(int).astype(float)\n",
    "```"
   ]
  },
  {
   "cell_type": "code",
   "execution_count": 40,
   "id": "56663562",
   "metadata": {},
   "outputs": [],
   "source": [
    "\n",
    "#RuntimeWarning: invalid value encountered in divide\n",
    "#RuntimeWarning: divide by zero encountered in floor_divide\n",
    "#RuntimeWarning: invalid value encountered in cast\n"
   ]
  },
  {
   "cell_type": "markdown",
   "id": "546f5e7b",
   "metadata": {},
   "source": [
    "#### 29. How to round away from zero a float array ?"
   ]
  },
  {
   "cell_type": "code",
   "execution_count": 41,
   "id": "f725a6d2",
   "metadata": {},
   "outputs": [
    {
     "name": "stdout",
     "output_type": "stream",
     "text": [
      "[ 2. -5.  9. -6.  8.]\n"
     ]
    }
   ],
   "source": [
    "array = np.array([1.7, -4.5, 8.9, -6, 8])\n",
    "rounded_array = np.ceil(np.abs(array)) * np.sign(array)\n",
    "print(rounded_array)"
   ]
  },
  {
   "cell_type": "markdown",
   "id": "eadca856",
   "metadata": {},
   "source": [
    "#### 30. How to find common values between two arrays?"
   ]
  },
  {
   "cell_type": "code",
   "execution_count": 42,
   "id": "e0270b5b",
   "metadata": {},
   "outputs": [
    {
     "name": "stdout",
     "output_type": "stream",
     "text": [
      "[4 5 6]\n"
     ]
    }
   ],
   "source": [
    "import numpy as np\n",
    "\n",
    "array1 = np.array([1, 6, 3, 4, 5])\n",
    "array2 = np.array([4, 5, 6, 7, 8])\n",
    "\n",
    "common_values = np.intersect1d(array1, array2)\n",
    "print(common_values)"
   ]
  },
  {
   "cell_type": "markdown",
   "id": "ca16ca22",
   "metadata": {},
   "source": [
    "#### 31. How to ignore all numpy warnings (not recommended)?"
   ]
  },
  {
   "cell_type": "code",
   "execution_count": 43,
   "id": "7d7208ef",
   "metadata": {},
   "outputs": [],
   "source": [
    "# np.seterr(all='ignore') #i'm not running it because it not recommended"
   ]
  },
  {
   "cell_type": "markdown",
   "id": "c7871d0d",
   "metadata": {},
   "source": [
    "#### 32. Is the following expressions true?\n",
    "```python\n",
    "np.sqrt(-1) == np.emath.sqrt(-1)\n",
    "```"
   ]
  },
  {
   "cell_type": "code",
   "execution_count": 44,
   "id": "acc3701a",
   "metadata": {},
   "outputs": [
    {
     "name": "stderr",
     "output_type": "stream",
     "text": [
      "C:\\Users\\majid\\AppData\\Local\\Temp\\ipykernel_6100\\244602691.py:1: RuntimeWarning: invalid value encountered in sqrt\n",
      "  np.sqrt(-1) == np.emath.sqrt(-1)\n"
     ]
    },
    {
     "data": {
      "text/plain": [
       "False"
      ]
     },
     "execution_count": 44,
     "metadata": {},
     "output_type": "execute_result"
    }
   ],
   "source": [
    "np.sqrt(-1) == np.emath.sqrt(-1)"
   ]
  },
  {
   "cell_type": "markdown",
   "id": "e0433e30",
   "metadata": {},
   "source": [
    "#### 33. How to get the dates of yesterday, today and tomorrow?"
   ]
  },
  {
   "cell_type": "code",
   "execution_count": 45,
   "id": "9c4d2152",
   "metadata": {},
   "outputs": [
    {
     "name": "stdout",
     "output_type": "stream",
     "text": [
      "Yesterday: 2024-07-05\n",
      "Today: 2024-07-06\n",
      "Tomorrow: 2024-07-07\n"
     ]
    }
   ],
   "source": [
    "# Get today's date\n",
    "today = np.datetime64('today')\n",
    "\n",
    "# Get yesterday's date\n",
    "yesterday = today - np.timedelta64(1)\n",
    "\n",
    "# Get tomorrow's date\n",
    "tomorrow = today + np.timedelta64(1)\n",
    "\n",
    "print(\"Yesterday:\", yesterday)\n",
    "print(\"Today:\", today)\n",
    "print(\"Tomorrow:\", tomorrow)"
   ]
  },
  {
   "cell_type": "markdown",
   "id": "9f52a2ef",
   "metadata": {},
   "source": [
    "#### 34. How to get all the dates corresponding to the month of July 2016?"
   ]
  },
  {
   "cell_type": "code",
   "execution_count": 46,
   "id": "d6c34dec",
   "metadata": {},
   "outputs": [
    {
     "name": "stdout",
     "output_type": "stream",
     "text": [
      "['2016-07-01' '2016-07-02' '2016-07-03' '2016-07-04' '2016-07-05'\n",
      " '2016-07-06' '2016-07-07' '2016-07-08' '2016-07-09' '2016-07-10'\n",
      " '2016-07-11' '2016-07-12' '2016-07-13' '2016-07-14' '2016-07-15'\n",
      " '2016-07-16' '2016-07-17' '2016-07-18' '2016-07-19' '2016-07-20'\n",
      " '2016-07-21' '2016-07-22' '2016-07-23' '2016-07-24' '2016-07-25'\n",
      " '2016-07-26' '2016-07-27' '2016-07-28' '2016-07-29' '2016-07-30']\n"
     ]
    }
   ],
   "source": [
    "# Get today's date\n",
    "start = np.datetime64('2016-07-01')\n",
    "end= np.datetime64('2016-07-30')\n",
    "month =np.arange(start,end+np.timedelta64(1,))\n",
    "print(month)\n"
   ]
  },
  {
   "cell_type": "markdown",
   "id": "4a64e059",
   "metadata": {},
   "source": [
    "#### 35. How to compute ((A+B)*(-A/2)) in place (without copy)?"
   ]
  },
  {
   "cell_type": "code",
   "execution_count": 47,
   "id": "49267f60",
   "metadata": {},
   "outputs": [
    {
     "name": "stdout",
     "output_type": "stream",
     "text": [
      "Result: [-10.  -17.5 -27. ]\n"
     ]
    }
   ],
   "source": [
    "import numpy as np\n",
    "\n",
    "# Example arrays A and B\n",
    "A = np.array([1, 2, 3], dtype=np.float64)  # Specify dtype=float64 for A\n",
    "B = np.array([4, 5, 6])\n",
    "\n",
    "# Compute ((A+B)*(-A/2)) in place\n",
    "np.add(A, B, out=A)       # A = A + B\n",
    "np.negative(A, out=A)     # A = -A\n",
    "np.divide(A, 2, out=A)    # A = -A / 2\n",
    "np.multiply(A, B, out=A)  # A = (A + B) * (-A / 2)\n",
    "\n",
    "# Result is now stored in array A\n",
    "print(\"Result:\", A)\n"
   ]
  },
  {
   "cell_type": "markdown",
   "id": "8a98c2a8",
   "metadata": {},
   "source": [
    "#### 36. Extract the integer part of a random array of positive numbers using 4 different methods"
   ]
  },
  {
   "cell_type": "code",
   "execution_count": 48,
   "id": "368130b3",
   "metadata": {},
   "outputs": [
    {
     "name": "stdout",
     "output_type": "stream",
     "text": [
      "Integer part (floor method): [4. 0. 3. 3. 0.]\n",
      "Integer part (astype method): [4 0 3 3 0]\n",
      "Integer part (trunc method): [4. 0. 3. 3. 0.]\n",
      "Integer part (list comprehension method): [4, 0, 3, 3, 0]\n"
     ]
    }
   ],
   "source": [
    "# Method 1: Using np.floor\n",
    "random_array = np.random.rand(5) * 10  \n",
    "integer_part_floor = np.floor(random_array)\n",
    "print(\"Integer part (floor method):\", integer_part_floor)\n",
    "\n",
    "# Method 2: Using astype(int)\n",
    "integer_part_astype = random_array.astype(int)\n",
    "print(\"Integer part (astype method):\", integer_part_astype)\n",
    "\n",
    "# Method 3: Using np.trunc\n",
    "integer_part_trunc = np.trunc(random_array)\n",
    "print(\"Integer part (trunc method):\", integer_part_trunc)\n",
    "\n",
    "# Method 4: Using list comprehension with int conversion\n",
    "integer_part_listcomp = [int(x) for x in random_array]\n",
    "print(\"Integer part (list comprehension method):\", integer_part_listcomp)\n"
   ]
  },
  {
   "cell_type": "markdown",
   "id": "5a2e3d85",
   "metadata": {},
   "source": [
    "#### 37. Create a 5x5 matrix with row values ranging from 0 to 4"
   ]
  },
  {
   "cell_type": "code",
   "execution_count": 49,
   "id": "1d974e8f",
   "metadata": {},
   "outputs": [
    {
     "name": "stdout",
     "output_type": "stream",
     "text": [
      "[[0 0 0 0 0]\n",
      " [1 1 1 1 1]\n",
      " [2 2 2 2 2]\n",
      " [3 3 3 3 3]\n",
      " [4 4 4 4 4]]\n"
     ]
    }
   ],
   "source": [
    "import numpy as np\n",
    "\n",
    "# Create a 5x5 matrix with row values ranging from 0 to 4\n",
    "matrix = np.arange(5).reshape(5, 1) + np.zeros((5, 5), dtype=int)\n",
    "\n",
    "print(matrix)\n"
   ]
  },
  {
   "cell_type": "markdown",
   "id": "9720e2d5",
   "metadata": {},
   "source": [
    "#### 38. Consider a generator function that generates 10 integers and use it to build an array"
   ]
  },
  {
   "cell_type": "code",
   "execution_count": 50,
   "id": "e5dd8fc9",
   "metadata": {},
   "outputs": [
    {
     "name": "stdout",
     "output_type": "stream",
     "text": [
      "Generated array: [0 1 2 3 4 5 6 7 8 9]\n"
     ]
    }
   ],
   "source": [
    "import numpy as np\n",
    "\n",
    "# Define a generator function that yields 10 integers\n",
    "def generate_integers():\n",
    "    for i in range(10):\n",
    "        yield i\n",
    "\n",
    "# Use NumPy's fromiter to build an array from the generator\n",
    "array = np.fromiter(generate_integers(), dtype=int, count=10)\n",
    "\n",
    "print(\"Generated array:\", array)\n"
   ]
  },
  {
   "cell_type": "markdown",
   "id": "c6f2c912",
   "metadata": {},
   "source": [
    "#### 39. Create a vector of size 10 with values ranging from 0 to 1, both excluded"
   ]
  },
  {
   "cell_type": "code",
   "execution_count": 51,
   "id": "6aaa27d3",
   "metadata": {},
   "outputs": [
    {
     "name": "stdout",
     "output_type": "stream",
     "text": [
      "[0.01       0.11888889 0.22777778 0.33666667 0.44555556 0.55444444\n",
      " 0.66333333 0.77222222 0.88111111 0.99      ]\n"
     ]
    }
   ],
   "source": [
    "x = np.linspace(0.01, 0.99, 10)\n",
    "print(x)"
   ]
  },
  {
   "cell_type": "markdown",
   "id": "a36d6ee4",
   "metadata": {},
   "source": [
    "#### 40. Create a random vector of size 10 and sort it"
   ]
  },
  {
   "cell_type": "code",
   "execution_count": 52,
   "id": "e589d216",
   "metadata": {},
   "outputs": [
    {
     "name": "stdout",
     "output_type": "stream",
     "text": [
      "[0.05159717 0.07183011 0.09579812 0.26744635 0.27367363 0.29062273\n",
      " 0.48848066 0.70976934 0.72096863 0.93096447]\n"
     ]
    }
   ],
   "source": [
    "x = random.rand(10)\n",
    "y = np.sort(x)\n",
    "print(y)"
   ]
  },
  {
   "cell_type": "markdown",
   "id": "0fb4ad68",
   "metadata": {},
   "source": [
    "#### 41. How to sum a small array faster than np.sum?"
   ]
  },
  {
   "cell_type": "code",
   "execution_count": 53,
   "id": "a1ba05a0",
   "metadata": {},
   "outputs": [
    {
     "name": "stdout",
     "output_type": "stream",
     "text": [
      "Sum using np.add.reduce: 21\n"
     ]
    }
   ],
   "source": [
    "\n",
    "arr = np.array([1, 2, 3, 4, 5,6])\n",
    "sum_result = np.add.reduce(arr)\n",
    "print(\"Sum using np.add.reduce:\", sum_result)"
   ]
  },
  {
   "cell_type": "markdown",
   "id": "024ac365",
   "metadata": {},
   "source": [
    "#### 42. Consider two random array A and B, check if they are equal"
   ]
  },
  {
   "cell_type": "code",
   "execution_count": 54,
   "id": "7db3846d",
   "metadata": {},
   "outputs": [
    {
     "name": "stdout",
     "output_type": "stream",
     "text": [
      "Arrays are not equal\n"
     ]
    }
   ],
   "source": [
    "x = np.random.rand(5)\n",
    "y = np.random.rand(5)\n",
    "if np.array_equal(x, y):\n",
    "    print(\"Arrays are equal\")\n",
    "else:\n",
    "    print(\"Arrays are not equal\")\n",
    "\n"
   ]
  },
  {
   "cell_type": "markdown",
   "id": "c68d2401",
   "metadata": {},
   "source": [
    "#### 43. Make an array immutable (read-only) "
   ]
  },
  {
   "cell_type": "code",
   "execution_count": 55,
   "id": "7828539d",
   "metadata": {},
   "outputs": [
    {
     "ename": "ValueError",
     "evalue": "assignment destination is read-only",
     "output_type": "error",
     "traceback": [
      "\u001b[1;31m---------------------------------------------------------------------------\u001b[0m",
      "\u001b[1;31mValueError\u001b[0m                                Traceback (most recent call last)",
      "Cell \u001b[1;32mIn[55], line 10\u001b[0m\n\u001b[0;32m      7\u001b[0m arr\u001b[38;5;241m.\u001b[39mflags\u001b[38;5;241m.\u001b[39mwriteable\u001b[38;5;241m=\u001b[39m \u001b[38;5;28;01mFalse\u001b[39;00m\n\u001b[0;32m      9\u001b[0m \u001b[38;5;66;03m# Try to modify the array\u001b[39;00m\n\u001b[1;32m---> 10\u001b[0m arr[\u001b[38;5;241m0\u001b[39m] \u001b[38;5;241m=\u001b[39m \u001b[38;5;241m10\u001b[39m\n",
      "\u001b[1;31mValueError\u001b[0m: assignment destination is read-only"
     ]
    }
   ],
   "source": [
    "import numpy as np\n",
    "\n",
    "# Create an array\n",
    "arr = np.array([1, 2, 3, 4, 5])\n",
    "\n",
    "# Make the array immutable\n",
    "arr.flags.writeable= False\n",
    "\n",
    "# Try to modify the array\n",
    "arr[0] = 10  # This will raise a ValueError"
   ]
  },
  {
   "cell_type": "markdown",
   "id": "55df6280",
   "metadata": {},
   "source": [
    "#### 44. Consider a random 10x2 matrix representing cartesian coordinates, convert them to polar coordinates"
   ]
  },
  {
   "cell_type": "code",
   "execution_count": null,
   "id": "f1c86ea0",
   "metadata": {},
   "outputs": [],
   "source": []
  },
  {
   "cell_type": "markdown",
   "id": "2f60f1ec",
   "metadata": {},
   "source": [
    "#### 45. Create random vector of size 10 and replace the maximum value by 0"
   ]
  },
  {
   "cell_type": "code",
   "execution_count": 56,
   "id": "d9f48f1c",
   "metadata": {},
   "outputs": [
    {
     "name": "stdout",
     "output_type": "stream",
     "text": [
      "[0.93215063 0.14277829 0.71212338 0.32838262 0.07901333 0.9673708\n",
      " 0.03124847 0.17049554 0.59018649 0.23857141]\n",
      "Original vector: [0.93215063 0.14277829 0.71212338 0.32838262 0.07901333 0.\n",
      " 0.03124847 0.17049554 0.59018649 0.23857141]\n"
     ]
    }
   ],
   "source": [
    "import numpy as np\n",
    "\n",
    "vector = np.random.rand(10)\n",
    "print(vector)\n",
    "\n",
    "max_index = np.argmax(vector)\n",
    "\n",
    "vector[max_index] = 0\n",
    "\n",
    "print(\"Original vector:\", vector)\n"
   ]
  },
  {
   "cell_type": "markdown",
   "id": "084e8ad4",
   "metadata": {},
   "source": [
    "#### 46. Create a structured array with `x` and `y` coordinates covering the [0,1]x[0,1] area"
   ]
  },
  {
   "cell_type": "code",
   "execution_count": null,
   "id": "58b47c13",
   "metadata": {},
   "outputs": [],
   "source": []
  },
  {
   "cell_type": "markdown",
   "id": "d7b9bc42",
   "metadata": {},
   "source": [
    "#### 47. Given two arrays, X and Y, construct the Cauchy matrix C (Cij =1/(xi - yj))"
   ]
  },
  {
   "cell_type": "code",
   "execution_count": null,
   "id": "a24824fb",
   "metadata": {},
   "outputs": [],
   "source": []
  },
  {
   "cell_type": "markdown",
   "id": "65ebc11b",
   "metadata": {},
   "source": [
    "#### 48. Print the minimum and maximum representable value for each numpy scalar type"
   ]
  },
  {
   "cell_type": "code",
   "execution_count": 57,
   "id": "e45d38fb",
   "metadata": {},
   "outputs": [
    {
     "name": "stdout",
     "output_type": "stream",
     "text": [
      "bool: False True\n",
      "int8: -128 127\n",
      "int16: -32768 32767\n",
      "int32: -2147483648 2147483647\n",
      "int64: -9223372036854775808 9223372036854775807\n",
      "uint8: 0 255\n",
      "uint16: 0 65535\n",
      "uint32: 0 4294967295\n",
      "uint64: 0 18446744073709551615\n",
      "float16: -65500.0 65500.0\n",
      "float32: -3.4028235e+38 3.4028235e+38\n",
      "float64: -1.7976931348623157e+308 1.7976931348623157e+308\n",
      "complex64: -3.4028235e+38 3.4028235e+38\n",
      "complex128: -1.7976931348623157e+308 1.7976931348623157e+308\n"
     ]
    }
   ],
   "source": [
    "print(\"bool:\", False, True)\n",
    "print(\"int8:\", np.iinfo(np.int8).min, np.iinfo(np.int8).max)\n",
    "print(\"int16:\", np.iinfo(np.int16).min, np.iinfo(np.int16).max)\n",
    "print(\"int32:\", np.iinfo(np.int32).min, np.iinfo(np.int32).max)\n",
    "print(\"int64:\", np.iinfo(np.int64).min, np.iinfo(np.int64).max)\n",
    "print(\"uint8:\", np.iinfo(np.uint8).min, np.iinfo(np.uint8).max)\n",
    "print(\"uint16:\", np.iinfo(np.uint16).min, np.iinfo(np.uint16).max)\n",
    "print(\"uint32:\", np.iinfo(np.uint32).min, np.iinfo(np.uint32).max)\n",
    "print(\"uint64:\", np.iinfo(np.uint64).min, np.iinfo(np.uint64).max)\n",
    "print(\"float16:\", np.finfo(np.float16).min, np.finfo(np.float16).max)\n",
    "print(\"float32:\", np.finfo(np.float32).min, np.finfo(np.float32).max)\n",
    "print(\"float64:\", np.finfo(np.float64).min, np.finfo(np.float64).max)\n",
    "print(\"complex64:\", np.finfo(np.complex64).min, np.finfo(np.complex64).max)\n",
    "print(\"complex128:\", np.finfo(np.complex128).min, np.finfo(np.complex128).max)"
   ]
  },
  {
   "cell_type": "markdown",
   "id": "9b317a98",
   "metadata": {},
   "source": [
    "#### 49. How to print all the values of an array? "
   ]
  },
  {
   "cell_type": "code",
   "execution_count": 58,
   "id": "309cdeb9",
   "metadata": {},
   "outputs": [
    {
     "name": "stdout",
     "output_type": "stream",
     "text": [
      "1\n",
      "2\n",
      "3\n",
      "4\n",
      "5\n"
     ]
    }
   ],
   "source": [
    "arr = np.array([1, 2, 3, 4, 5])\n",
    "\n",
    "for value in arr:\n",
    "    print(value)\n"
   ]
  },
  {
   "cell_type": "markdown",
   "id": "b580f9d0",
   "metadata": {},
   "source": [
    "#### 50. How to find the closest value (to a given scalar) in a vector?"
   ]
  },
  {
   "cell_type": "code",
   "execution_count": 59,
   "id": "ebfb6714",
   "metadata": {},
   "outputs": [
    {
     "name": "stdout",
     "output_type": "stream",
     "text": [
      "4\n"
     ]
    }
   ],
   "source": [
    "import numpy as np\n",
    "\n",
    "vector = np.array([1, 2, 3, 4, 5])\n",
    "scalar = 3.7\n",
    "\n",
    "index = np.argmin(np.abs(vector - scalar))\n",
    "closest_value = vector[index]\n",
    "\n",
    "print(closest_value)"
   ]
  },
  {
   "cell_type": "markdown",
   "id": "602e6252",
   "metadata": {},
   "source": [
    "#### 51. Create a structured array representing a position (x,y) and a color (r,g,b)"
   ]
  },
  {
   "cell_type": "code",
   "execution_count": 60,
   "id": "cf002b3a",
   "metadata": {},
   "outputs": [
    {
     "name": "stdout",
     "output_type": "stream",
     "text": [
      "Position of first element: (10., 20.)\n",
      "Color of first element: (255, 0, 0)\n"
     ]
    }
   ],
   "source": [
    "import numpy as np\n",
    "\n",
    "dtype = [('position', [('x', float), ('y', float)]),\n",
    "         ('color', [('r', int), ('g', int), ('b', int)])]\n",
    "\n",
    "\n",
    "positions_colors = np.array([\n",
    "    ((10.0, 20.0), (255, 0, 0)),\n",
    "    ((15.5, 25.0), (0, 255, 0)),\n",
    "    ((20.0, 30.5), (0, 0, 255))\n",
    "], dtype=dtype)\n",
    "\n",
    "\n",
    "print(\"Position of first element:\", positions_colors['position'][0])\n",
    "print(\"Color of first element:\", positions_colors['color'][0])\n"
   ]
  },
  {
   "cell_type": "markdown",
   "id": "78bcd92f",
   "metadata": {},
   "source": [
    "#### 52. Consider a random vector with shape (100,2) representing coordinates, find point by point distances"
   ]
  },
  {
   "cell_type": "code",
   "execution_count": 61,
   "id": "fea7f9a6",
   "metadata": {},
   "outputs": [
    {
     "name": "stdout",
     "output_type": "stream",
     "text": [
      "Pairwise distances:\n",
      "[[0.         0.49919943 0.59414462 0.63910735 0.65698458]\n",
      " [0.49919943 0.         0.65135961 0.34877984 0.25412701]\n",
      " [0.59414462 0.65135961 0.         0.42076947 0.90539167]\n",
      " [0.63910735 0.34877984 0.42076947 0.         0.57741025]\n",
      " [0.65698458 0.25412701 0.90539167 0.57741025 0.        ]]\n"
     ]
    }
   ],
   "source": [
    "import numpy as np\n",
    "coordinates = np.random.rand(100, 2)\n",
    "distances = np.linalg.norm(coordinates[:, np.newaxis] - coordinates, axis=-1)\n",
    "print(\"Pairwise distances:\")\n",
    "print(distances[:5, :5]) \n"
   ]
  },
  {
   "cell_type": "markdown",
   "id": "343c5a85",
   "metadata": {},
   "source": [
    "#### 53. How to convert a float (32 bits) array into an integer (32 bits) in place?"
   ]
  },
  {
   "cell_type": "code",
   "execution_count": 62,
   "id": "fc1b687b",
   "metadata": {},
   "outputs": [
    {
     "name": "stdout",
     "output_type": "stream",
     "text": [
      "[1.1 2.2 3.3 4.4]\n",
      "Float array (int32): [1 2 3 4]\n"
     ]
    }
   ],
   "source": [
    "import numpy as np\n",
    "\n",
    "# Create a float32 array\n",
    "float_array = np.array([1.1, 2.2, 3.3, 4.4], dtype=np.float32)\n",
    "print(float_array)\n",
    "\n",
    "float_array = float_array.astype(np.int32)\n",
    "\n",
    "print(\"Float array (int32):\", float_array)\n"
   ]
  },
  {
   "cell_type": "markdown",
   "id": "a69e1ace",
   "metadata": {},
   "source": [
    "#### 54. How to read the following file?\n",
    "```\n",
    "1, 2, 3, 4, 5\n",
    "6,  ,  , 7, 8\n",
    " ,  , 9,10,11\n",
    "```"
   ]
  },
  {
   "cell_type": "code",
   "execution_count": 63,
   "id": "1c7957d4",
   "metadata": {},
   "outputs": [
    {
     "name": "stdout",
     "output_type": "stream",
     "text": [
      "[[ 1.  2.  3.  4.  5.]\n",
      " [ 6. nan nan  7. nan]\n",
      " [nan nan  9. 10. 11.]]\n"
     ]
    }
   ],
   "source": [
    "# Define the input data\n",
    "input_data = \"\"\"1, 2, 3, 4, 5\n",
    "6,  ,  , 7,\n",
    " ,  , 9, 10, 11\"\"\"\n",
    "\n",
    "data = np.genfromtxt(input_data.splitlines(), delimiter=',', dtype=float)\n",
    "print(data)"
   ]
  },
  {
   "cell_type": "markdown",
   "id": "c23bd80d",
   "metadata": {},
   "source": [
    "#### 55. What is the equivalent of enumerate for numpy arrays?"
   ]
  },
  {
   "cell_type": "code",
   "execution_count": 64,
   "id": "d95d9578",
   "metadata": {},
   "outputs": [
    {
     "name": "stdout",
     "output_type": "stream",
     "text": [
      "(0, 0) 1\n",
      "(0, 1) 2\n",
      "(0, 2) 3\n",
      "(1, 0) 4\n",
      "(1, 1) 5\n",
      "(1, 2) 6\n"
     ]
    }
   ],
   "source": [
    "#ndindex is used in place of enumerate\n",
    "arr = np.array([[1, 2, 3], [4, 5, 6]])\n",
    "\n",
    "for index in np.ndindex(arr.shape):\n",
    "    print(index, arr[index])\n"
   ]
  },
  {
   "cell_type": "markdown",
   "id": "2153a5ec",
   "metadata": {},
   "source": [
    "#### 56. Generate a generic 2D Gaussian-like array"
   ]
  },
  {
   "cell_type": "code",
   "execution_count": null,
   "id": "61122d1e",
   "metadata": {},
   "outputs": [],
   "source": []
  },
  {
   "cell_type": "markdown",
   "id": "2e76d589",
   "metadata": {},
   "source": [
    "#### 57. How to randomly place p elements in a 2D array?"
   ]
  },
  {
   "cell_type": "code",
   "execution_count": 65,
   "id": "0c2e4fcc",
   "metadata": {},
   "outputs": [
    {
     "name": "stdout",
     "output_type": "stream",
     "text": [
      "Randomly placed array:\n",
      "[[1 5 5 1 1]\n",
      " [1 1 5 0 0]\n",
      " [5 0 0 5 1]]\n"
     ]
    }
   ],
   "source": [
    "import numpy as np\n",
    "\n",
    "rows = 3\n",
    "cols = 5\n",
    "p = 5\n",
    "\n",
    "\n",
    "arr = np.random.randint(0, 2, size=(rows, cols))\n",
    "\n",
    "\n",
    "positions = np.random.choice(rows * cols, p)\n",
    "\n",
    "\n",
    "arr.flat[positions] = p\n",
    "\n",
    "print(\"Randomly placed array:\")\n",
    "print(arr)\n"
   ]
  },
  {
   "cell_type": "markdown",
   "id": "8b3933eb",
   "metadata": {},
   "source": [
    "#### 58. Subtract the mean of each row of a matrix"
   ]
  },
  {
   "cell_type": "code",
   "execution_count": 66,
   "id": "a306c9ef",
   "metadata": {},
   "outputs": [
    {
     "name": "stdout",
     "output_type": "stream",
     "text": [
      "[[-1.  0.  1.]\n",
      " [-1.  0.  1.]\n",
      " [-1.  0.  1.]]\n"
     ]
    }
   ],
   "source": [
    "X = np.array([[1, 2, 3], [4, 5, 6], [7, 8, 9]])\n",
    "row_means = X.mean(axis=1, keepdims= True) \n",
    "Y = X - row_means\n",
    "print(Y)"
   ]
  },
  {
   "cell_type": "markdown",
   "id": "ea8807c0",
   "metadata": {},
   "source": [
    "#### 59. How to sort an array by the nth column?"
   ]
  },
  {
   "cell_type": "code",
   "execution_count": 67,
   "id": "cc89a699",
   "metadata": {},
   "outputs": [
    {
     "name": "stdout",
     "output_type": "stream",
     "text": [
      "[[7 9 8]\n",
      " [5 1 3]\n",
      " [4 6 2]]\n"
     ]
    }
   ],
   "source": [
    "arr = np.array([[4, 6, 2], [5, 1, 3], [7, 9, 8]])\n",
    "n = 2\n",
    "sorted_indices = np.argsort(-arr[:,n])\n",
    "sorted_arr = arr[sorted_indices]\n",
    "\n",
    "print(sorted_arr)"
   ]
  },
  {
   "cell_type": "markdown",
   "id": "00fa00a1",
   "metadata": {},
   "source": [
    "#### 60. How to tell if a given 2D array has null columns?"
   ]
  },
  {
   "cell_type": "code",
   "execution_count": 68,
   "id": "3436e165",
   "metadata": {},
   "outputs": [
    {
     "name": "stdout",
     "output_type": "stream",
     "text": [
      "Array:\n",
      "[[0 0 3]\n",
      " [0 0 6]\n",
      " [0 0 9]]\n",
      "\n",
      "The array has null (all-zero) columns at indices: [0 1]\n"
     ]
    }
   ],
   "source": [
    "import numpy as np\n",
    "\n",
    "# Example 2D array\n",
    "array = np.array([[0, 0, 3],\n",
    "                  [0, 0, 6],\n",
    "                  [0, 0, 9]])\n",
    "\n",
    "# Identify null (all-zero) columns\n",
    "null_columns = np.where(~array.any(axis=0))[0]\n",
    "\n",
    "print(\"Array:\")\n",
    "print(array)\n",
    "\n",
    "if null_columns.size > 0:\n",
    "    print(\"\\nThe array has null (all-zero) columns at indices:\", null_columns)\n",
    "else:\n",
    "    print(\"\\nThe array does not have any null (all-zero) columns.\")\n"
   ]
  },
  {
   "cell_type": "markdown",
   "id": "5a65c7a2",
   "metadata": {},
   "source": [
    "#### 61. Find the nearest value from a given value in an array"
   ]
  },
  {
   "cell_type": "code",
   "execution_count": 69,
   "id": "73f149d6",
   "metadata": {},
   "outputs": [
    {
     "name": "stdout",
     "output_type": "stream",
     "text": [
      "9\n"
     ]
    }
   ],
   "source": [
    "import numpy as np\n",
    "\n",
    "vector = np.array([1, 2, 3, 4, 5,9])\n",
    "value = 8\n",
    "\n",
    "index = np.argmin(np.abs(vector - value))\n",
    "closest_value = vector[index]\n",
    "\n",
    "print(closest_value)"
   ]
  },
  {
   "cell_type": "markdown",
   "id": "dd83e8af",
   "metadata": {},
   "source": [
    "#### 62. Considering two arrays with shape (1,3) and (3,1), how to compute their sum using an iterator?"
   ]
  },
  {
   "cell_type": "code",
   "execution_count": 70,
   "id": "29a709a1",
   "metadata": {},
   "outputs": [
    {
     "name": "stdout",
     "output_type": "stream",
     "text": [
      "[[0 1 2]\n",
      " [1 2 3]\n",
      " [2 3 4]]\n"
     ]
    }
   ],
   "source": [
    "import numpy as np\n",
    "\n",
    "A = np.arange(3).reshape(1, 3)\n",
    "B = np.arange(3).reshape(3, 1)\n",
    "\n",
    "it = np.nditer([A, B,None])\n",
    "\n",
    "for x, y, z in it:\n",
    "    z[...] = x + y\n",
    "\n",
    "print(it.operands[2])\n"
   ]
  },
  {
   "cell_type": "markdown",
   "id": "6c042efa",
   "metadata": {},
   "source": [
    "#### 63. Create an array class that has a name attribute"
   ]
  },
  {
   "cell_type": "code",
   "execution_count": 71,
   "id": "45b3d2e0",
   "metadata": {},
   "outputs": [
    {
     "name": "stdout",
     "output_type": "stream",
     "text": [
      "Array name: Sample Array\n",
      "Array data: [1, 2, 3]\n"
     ]
    }
   ],
   "source": [
    "class MyArray:\n",
    "  def __init__(self, data, name):\n",
    "    self.data = data  \n",
    "    self.name = name  \n",
    "\n",
    "\n",
    "my_array = MyArray([1, 2, 3], \"Sample Array\")\n",
    "\n",
    "print(f\"Array name: {my_array.name}\")\n",
    "print(f\"Array data: {my_array.data}\")"
   ]
  },
  {
   "cell_type": "markdown",
   "id": "0a075c3d",
   "metadata": {},
   "source": [
    "#### 64. Consider a given vector, how to add 1 to each element indexed by a second vector (be careful with repeated indices)?"
   ]
  },
  {
   "cell_type": "code",
   "execution_count": 72,
   "id": "36c50470",
   "metadata": {},
   "outputs": [
    {
     "name": "stdout",
     "output_type": "stream",
     "text": [
      "Original Vector:\n",
      "[1 2 3 4 5]\n",
      "\n",
      "Index Vector:\n",
      "[1 2 3 4]\n",
      "\n",
      "Result Vector after adding 1 to unique indices:\n",
      "[1 3 4 5 6]\n"
     ]
    }
   ],
   "source": [
    "vector = np.array([1, 2, 3, 4, 5])\n",
    "index_vector = np.array([1, 2, 3, 4])\n",
    "\n",
    "result_vector = vector.copy()\n",
    "\n",
    "unique_indices = np.unique(index_vector)\n",
    "\n",
    "result_vector[unique_indices] += 1\n",
    "print(\"Original Vector:\")\n",
    "print(vector)\n",
    "\n",
    "print(\"\\nIndex Vector:\")\n",
    "print(index_vector)\n",
    "\n",
    "print(\"\\nResult Vector after adding 1 to unique indices:\")\n",
    "print(result_vector)\n"
   ]
  },
  {
   "cell_type": "markdown",
   "id": "0fb2f0c5",
   "metadata": {},
   "source": [
    "#### 65. How to accumulate elements of a vector (X) to an array (F) based on an index list (I)?"
   ]
  },
  {
   "cell_type": "code",
   "execution_count": 73,
   "id": "58aa5f82",
   "metadata": {},
   "outputs": [
    {
     "name": "stdout",
     "output_type": "stream",
     "text": [
      "Result:\n",
      "[1 6 3 5]\n"
     ]
    }
   ],
   "source": [
    "\n",
    "\n",
    "X = np.array([1, 2, 3, 4, 5])\n",
    "I = np.array([0, 1, 2, 1, 3])\n",
    "\n",
    "F = np.bincount(I, weights=X)\n",
    "F = F.astype(np.int32)\n",
    "print(\"Result:\")\n",
    "print(F)"
   ]
  },
  {
   "cell_type": "markdown",
   "id": "d89dc506",
   "metadata": {},
   "source": [
    "#### 66. Considering a (w,h,3) image of (dtype=ubyte), compute the number of unique colors"
   ]
  },
  {
   "cell_type": "code",
   "execution_count": 74,
   "id": "8fb43a49",
   "metadata": {},
   "outputs": [
    {
     "name": "stdout",
     "output_type": "stream",
     "text": [
      "Number of unique colors: 304433\n"
     ]
    }
   ],
   "source": [
    "\n",
    "\n",
    "w, h = 640, 480\n",
    "\n",
    "\n",
    "image = np.random.randint(0, 256, size=(w, h, 3), dtype=np.ubyte)\n",
    "\n",
    "unique_colors = set(map(tuple, image.reshape(-1, 3)))\n",
    "\n",
    "num_unique_colors = len(unique_colors)\n",
    "\n",
    "print(f\"Number of unique colors: {num_unique_colors}\")\n",
    "\n"
   ]
  },
  {
   "cell_type": "markdown",
   "id": "535a5d81",
   "metadata": {},
   "source": [
    "#### 67. Considering a four dimensions array, how to get sum over the last two axis at once?"
   ]
  },
  {
   "cell_type": "code",
   "execution_count": 75,
   "id": "f954ab9d",
   "metadata": {},
   "outputs": [
    {
     "name": "stdout",
     "output_type": "stream",
     "text": [
      "Original array shape: (3, 4, 5, 6)\n",
      "Sum over the last two axes shape: (3, 4)\n",
      "Sum over the last two axes:\n",
      "[[54 46 48 51]\n",
      " [46 47 54 37]\n",
      " [49 52 47 55]]\n"
     ]
    }
   ],
   "source": [
    "\n",
    "arr = np.random.randint(0, 4, size=(3, 4, 5, 6))\n",
    "\n",
    "\n",
    "sum_last_two_axes = np.sum(arr, axis=(-2, -1))\n",
    "\n",
    "print(\"Original array shape:\", arr.shape)\n",
    "print(\"Sum over the last two axes shape:\", sum_last_two_axes.shape)\n",
    "print(\"Sum over the last two axes:\")\n",
    "print(sum_last_two_axes)\n"
   ]
  },
  {
   "cell_type": "markdown",
   "id": "eee66d3c",
   "metadata": {},
   "source": [
    "#### 68. Considering a one-dimensional vector D, how to compute means of subsets of D using a vector S of same size describing subset  indices?"
   ]
  },
  {
   "cell_type": "code",
   "execution_count": 76,
   "id": "8929773a",
   "metadata": {},
   "outputs": [
    {
     "name": "stdout",
     "output_type": "stream",
     "text": [
      "Original vector D: [10 20 30 40 50 60 70 80 90]\n",
      "Subset indices vector S: [0 0 1 1 2 2 3 3 3]\n",
      "Subset means: [15.0, 35.0, 55.0, 80.0]\n"
     ]
    }
   ],
   "source": [
    "D = np.array([10, 20, 30, 40, 50, 60, 70, 80, 90]) \n",
    "S = np.array([0, 0, 1, 1, 2, 2, 3, 3, 3])          \n",
    "\n",
    "\n",
    "subset_means = []\n",
    "for idx in np.unique(S):\n",
    "    subset_means.append(np.mean(D[S == idx]))\n",
    "\n",
    "print(\"Original vector D:\", D)\n",
    "print(\"Subset indices vector S:\", S)\n",
    "print(\"Subset means:\", subset_means)\n"
   ]
  },
  {
   "cell_type": "markdown",
   "id": "f90d4c40",
   "metadata": {},
   "source": [
    "#### 69. How to get the diagonal of a dot product?"
   ]
  },
  {
   "cell_type": "code",
   "execution_count": 77,
   "id": "b47d392d",
   "metadata": {},
   "outputs": [
    {
     "name": "stdout",
     "output_type": "stream",
     "text": [
      "Matrix A:\n",
      " [[1 2 3]\n",
      " [4 5 6]\n",
      " [7 8 9]]\n",
      "Matrix B:\n",
      " [[1 2 3]\n",
      " [4 5 6]\n",
      " [7 8 9]]\n",
      "Dot product of A and B:\n",
      " [[ 30  36  42]\n",
      " [ 66  81  96]\n",
      " [102 126 150]]\n",
      "Diagonal elements of the dot product:\n",
      " [ 30  81 150]\n"
     ]
    }
   ],
   "source": [
    "import numpy as np\n",
    "A = np.arange(1, 10).reshape(3, 3)\n",
    "\n",
    "B = np.arange(1, 10).reshape(3, 3)\n",
    "\n",
    "\n",
    "dot_product = np.dot(A, B)\n",
    "\n",
    "\n",
    "diagonal_elements = np.diag(dot_product)\n",
    "\n",
    "print(\"Matrix A:\\n\", A)\n",
    "print(\"Matrix B:\\n\", B)\n",
    "print(\"Dot product of A and B:\\n\", dot_product)\n",
    "print(\"Diagonal elements of the dot product:\\n\", diagonal_elements)\n"
   ]
  },
  {
   "cell_type": "markdown",
   "id": "a8a97e7d",
   "metadata": {},
   "source": [
    "#### 70. Consider the vector [1, 2, 3, 4, 5], how to build a new vector with 3 consecutive zeros interleaved between each value?"
   ]
  },
  {
   "cell_type": "code",
   "execution_count": 78,
   "id": "ee6c6c37",
   "metadata": {},
   "outputs": [
    {
     "name": "stdout",
     "output_type": "stream",
     "text": [
      "Original vector: [1, 2, 3, 4, 5]\n",
      "New vector with zeros interleaved: [1, 0, 0, 0, 2, 0, 0, 0, 3, 0, 0, 0, 4, 0, 0, 0, 5]\n"
     ]
    }
   ],
   "source": [
    "# Original vector\n",
    "original_vector = [1, 2, 3, 4, 5]\n",
    "\n",
    "# Build new vector with interleaved zeros\n",
    "new_vector = []\n",
    "for num in original_vector:\n",
    "    new_vector.extend([num, 0, 0, 0])\n",
    "\n",
    "# Remove the last set of zeros if it exists\n",
    "for i in new_vector:\n",
    "    if new_vector[-1] == 0:\n",
    "        new_vector.pop()\n",
    "\n",
    "print(\"Original vector:\", original_vector)\n",
    "print(\"New vector with zeros interleaved:\", new_vector)\n"
   ]
  },
  {
   "cell_type": "markdown",
   "id": "d6a30d60",
   "metadata": {},
   "source": [
    "#### 71. Consider an array of dimension (5,5,3), how to mulitply it by an array with dimensions (5,5)?"
   ]
  },
  {
   "cell_type": "code",
   "execution_count": 79,
   "id": "e9703f2e",
   "metadata": {},
   "outputs": [
    {
     "name": "stdout",
     "output_type": "stream",
     "text": [
      "\n",
      "Result after multiplication (dimensions (5, 5, 3)):\n",
      " [[[54 63 54]\n",
      "  [28 24 20]\n",
      "  [10 15 45]\n",
      "  [10 25 45]\n",
      "  [20 16 36]]\n",
      "\n",
      " [[16 14 16]\n",
      "  [ 5 10 10]\n",
      "  [ 8 12 18]\n",
      "  [54 18 54]\n",
      "  [ 9  4  1]]\n",
      "\n",
      " [[ 5 35 20]\n",
      "  [12 18 24]\n",
      "  [18 21  3]\n",
      "  [36 12 48]\n",
      "  [ 6 10  4]]\n",
      "\n",
      " [[10  2  2]\n",
      "  [42 42 18]\n",
      "  [63 28 21]\n",
      "  [10  8 12]\n",
      "  [20 25 15]]\n",
      "\n",
      " [[ 6 21  6]\n",
      "  [ 2 18  6]\n",
      "  [32 56 64]\n",
      "  [56  8 32]\n",
      "  [ 8 32 16]]]\n"
     ]
    }
   ],
   "source": [
    "import numpy as np\n",
    "\n",
    "# Create arrays\n",
    "array_3d = np.random.randint(1, 10, size=(5, 5, 3))  # Dimension (5, 5, 3)\n",
    "array_2d = np.random.randint(1, 10, size=(5, 5))    # Dimension (5, 5)\n",
    "\n",
    "# Multiply using tile\n",
    "result = array_3d * array_2d[:,:,None]\n",
    "\n",
    "print(\"\\nResult after multiplication (dimensions (5, 5, 3)):\\n\", result)\n"
   ]
  },
  {
   "cell_type": "markdown",
   "id": "bac359a9",
   "metadata": {},
   "source": [
    "#### 72. How to swap two rows of an array?"
   ]
  },
  {
   "cell_type": "code",
   "execution_count": 80,
   "id": "f1b432b1",
   "metadata": {},
   "outputs": [
    {
     "name": "stdout",
     "output_type": "stream",
     "text": [
      "Array after swapping rows 0 and 1:\n",
      "[[4 5 6]\n",
      " [1 2 3]\n",
      " [7 8 9]]\n"
     ]
    }
   ],
   "source": [
    "import numpy as np\n",
    "\n",
    "# Create a sample 2D array\n",
    "arr = np.array([[1, 2, 3],\n",
    "                [4, 5, 6],\n",
    "                [7, 8, 9]])\n",
    "\n",
    "# Swap rows (for example, swap row 0 with row 1)\n",
    "arr[[0, 1]] = arr[[1, 0]]\n",
    "\n",
    "print(\"Array after swapping rows 0 and 1:\")\n",
    "print(arr)\n"
   ]
  },
  {
   "cell_type": "markdown",
   "id": "620c9f83",
   "metadata": {},
   "source": [
    "#### 73. Consider a set of 10 triplets describing 10 triangles (with shared vertices), find the set of unique line segments composing all the  triangles"
   ]
  },
  {
   "cell_type": "code",
   "execution_count": 81,
   "id": "4e595ffc",
   "metadata": {},
   "outputs": [
    {
     "name": "stdout",
     "output_type": "stream",
     "text": [
      "Unique line segments composing all triangles:\n",
      "((1, 0), (0, 1))\n",
      "((1, 1), (0, 1))\n",
      "((0, 1), (1, 0))\n",
      "((0, 0), (1, 0))\n",
      "((2, 0), (2, 1))\n",
      "((1, 2), (0, 1))\n",
      "((2, 0), (1, 1))\n",
      "((0, 1), (1, 1))\n",
      "((1, 1), (1, 0))\n",
      "((2, 1), (1, 1))\n",
      "((2, 2), (1, 1))\n",
      "((1, 1), (2, 1))\n",
      "((1, 0), (1, 1))\n",
      "((1, 0), (2, 0))\n",
      "((0, 1), (0, 0))\n",
      "((1, 1), (2, 0))\n",
      "((2, 1), (2, 2))\n",
      "((1, 1), (2, 2))\n",
      "((2, 1), (1, 2))\n",
      "((1, 2), (1, 1))\n",
      "((2, 2), (1, 2))\n",
      "((1, 1), (0, 0))\n",
      "((1, 1), (1, 2))\n"
     ]
    }
   ],
   "source": [
    "\n",
    "triangle_vertices = [\n",
    "    [(0, 0), (1, 0), (0, 1)],    # Triangle 1\n",
    "    [(1, 0), (1, 1), (0, 1)],    # Triangle 2\n",
    "    [(1, 1), (2, 1), (1, 2)],    # Triangle 3\n",
    "    [(1, 1), (1, 2), (0, 1)],    # Triangle 4\n",
    "    [(1, 0), (2, 0), (1, 1)],    # Triangle 5\n",
    "    [(2, 0), (2, 1), (1, 1)],    # Triangle 6\n",
    "    [(2, 1), (2, 2), (1, 1)],    # Triangle 7\n",
    "    [(1, 1), (2, 2), (1, 2)],    # Triangle 8\n",
    "    [(0, 0), (1, 0), (1, 1)],    # Triangle 9\n",
    "    [(1, 1), (1, 0), (0, 1)]     # Triangle 10\n",
    "]\n",
    "\n",
    "\n",
    "unique_segments = set()\n",
    "\n",
    "for vertices in triangle_vertices:\n",
    " \n",
    "    segments = {(vertices[i], vertices[(i + 1) % 3]) for i in range(3)}\n",
    " \n",
    "    unique_segments.update(segments)\n",
    "\n",
    "\n",
    "print(\"Unique line segments composing all triangles:\")\n",
    "for segment in unique_segments:\n",
    "    print(segment)\n"
   ]
  },
  {
   "cell_type": "markdown",
   "id": "a76c55a2",
   "metadata": {},
   "source": [
    "#### 74. Given a sorted array C that corresponds to a bincount, how to produce an array A such that np.bincount(A) == C?"
   ]
  },
  {
   "cell_type": "code",
   "execution_count": 82,
   "id": "2d2ae65a",
   "metadata": {},
   "outputs": [
    {
     "name": "stdout",
     "output_type": "stream",
     "text": [
      "Array A: [1 2 2 4 5 5 6 6 6 8 9 9 9 9]\n",
      "Bincount of A: [0 1 2 0 1 2 3 0 1 4]\n",
      "Original array C: [0 1 2 0 1 2 3 0 1 4]\n"
     ]
    }
   ],
   "source": [
    "import numpy as np\n",
    "\n",
    "\n",
    "C = np.array([0, 1, 2, 0, 1, 2, 3, 0, 1, 4])\n",
    "\n",
    "A = []\n",
    "\n",
    "\n",
    "for index, count in enumerate(C):\n",
    "    A.extend([index] * count)\n",
    "\n",
    "# Convert to numpy array\n",
    "A = np.array(A)\n",
    "\n",
    "\n",
    "print(\"Array A:\", A)\n",
    "print(\"Bincount of A:\", np.bincount(A))\n",
    "print(\"Original array C:\", C)\n"
   ]
  },
  {
   "cell_type": "markdown",
   "id": "d550c8e2",
   "metadata": {},
   "source": [
    "#### 75. How to compute averages using a sliding window over an array?"
   ]
  },
  {
   "cell_type": "code",
   "execution_count": null,
   "id": "841c457c",
   "metadata": {},
   "outputs": [],
   "source": []
  },
  {
   "cell_type": "markdown",
   "id": "6b170b00",
   "metadata": {},
   "source": [
    "#### 76. Consider a one-dimensional array Z, build a two-dimensional array whose first row is (Z[0],Z[1],Z[2]) and each subsequent row is  shifted by 1 (last row should be (Z[-3],Z[-2],Z[-1])"
   ]
  },
  {
   "cell_type": "code",
   "execution_count": 83,
   "id": "d9a0cf4e",
   "metadata": {},
   "outputs": [
    {
     "name": "stdout",
     "output_type": "stream",
     "text": [
      "[1, 2, 3]\n",
      "[2, 3, 4]\n",
      "[3, 4, 5]\n",
      "[4, 5, 6]\n",
      "[5, 6, 7]\n",
      "[6, 7, 8]\n",
      "[7, 8, 9]\n"
     ]
    }
   ],
   "source": [
    "# Example:\n",
    "Z = [1, 2, 3, 4, 5, 6, 7, 8, 9]\n",
    "\n",
    "# Build the two-dimensional array\n",
    "result = []\n",
    "for i in range(len(Z) - 2):\n",
    "    result.append(Z[i:i+3])\n",
    "\n",
    "# Print the result\n",
    "for row in result:\n",
    "    print(row)\n"
   ]
  },
  {
   "cell_type": "markdown",
   "id": "e94a5c1d",
   "metadata": {},
   "source": [
    "#### 77. How to negate a boolean, or to change the sign of a float inplace?"
   ]
  },
  {
   "cell_type": "code",
   "execution_count": 84,
   "id": "c0f9504f",
   "metadata": {},
   "outputs": [
    {
     "name": "stdout",
     "output_type": "stream",
     "text": [
      "False\n"
     ]
    }
   ],
   "source": [
    "\n",
    "bool_value = True\n",
    "\n",
    "\n",
    "negated_bool = not bool_value\n",
    "\n",
    "print(negated_bool) \n"
   ]
  },
  {
   "cell_type": "markdown",
   "id": "4eb8b5c1",
   "metadata": {},
   "source": [
    "#### 78. Consider 2 sets of points P0,P1 describing lines (2d) and a point p, how to compute distance from p to each line i (P0[i],P1[i])?"
   ]
  },
  {
   "cell_type": "code",
   "execution_count": null,
   "id": "487f47ec",
   "metadata": {},
   "outputs": [],
   "source": []
  },
  {
   "cell_type": "markdown",
   "id": "3df99948",
   "metadata": {},
   "source": [
    "#### 79. Consider 2 sets of points P0,P1 describing lines (2d) and a set of points P, how to compute distance from each point j (P[j]) to each line i (P0[i],P1[i])?"
   ]
  },
  {
   "cell_type": "code",
   "execution_count": null,
   "id": "dc2df37b",
   "metadata": {},
   "outputs": [],
   "source": []
  },
  {
   "cell_type": "markdown",
   "id": "11e972c2",
   "metadata": {},
   "source": [
    "#### 80. Consider an arbitrary array, write a function that extract a subpart with a fixed shape and centered on a given element (pad with a `fill` value when necessary)"
   ]
  },
  {
   "cell_type": "code",
   "execution_count": null,
   "id": "0291247f",
   "metadata": {},
   "outputs": [],
   "source": []
  },
  {
   "cell_type": "markdown",
   "id": "93cfeab3",
   "metadata": {},
   "source": [
    "#### 81. Consider an array Z = [1,2,3,4,5,6,7,8,9,10,11,12,13,14], how to generate an array R = [[1,2,3,4], [2,3,4,5], [3,4,5,6], ..., [11,12,13,14]]?"
   ]
  },
  {
   "cell_type": "code",
   "execution_count": 85,
   "id": "360de791",
   "metadata": {},
   "outputs": [
    {
     "name": "stdout",
     "output_type": "stream",
     "text": [
      "[[ 1  2  3  4]\n",
      " [ 2  3  4  5]\n",
      " [ 3  4  5  6]\n",
      " [ 4  5  6  7]\n",
      " [ 5  6  7  8]\n",
      " [ 6  7  8  9]\n",
      " [ 7  8  9 10]\n",
      " [ 8  9 10 11]\n",
      " [ 9 10 11 12]\n",
      " [10 11 12 13]\n",
      " [11 12 13 14]]\n"
     ]
    }
   ],
   "source": [
    "import numpy as np\n",
    "\n",
    "Z = np.arange(1, 15, dtype=np.uint32)\n",
    "R = np.lib.stride_tricks.as_strided(Z, shape=(11, 4), strides=(4, 4))\n",
    "print(R)\n"
   ]
  },
  {
   "cell_type": "markdown",
   "id": "4c15ceff",
   "metadata": {},
   "source": [
    "#### 82. Compute a matrix rank (★★★)"
   ]
  },
  {
   "cell_type": "code",
   "execution_count": 86,
   "id": "9a4272d2",
   "metadata": {},
   "outputs": [
    {
     "name": "stdout",
     "output_type": "stream",
     "text": [
      "Rank of matrix A: 2\n"
     ]
    }
   ],
   "source": [
    "import numpy as np\n",
    "\n",
    "# Define your matrix\n",
    "A = np.array([[1, 2, 3],\n",
    "              [4, 5, 6],\n",
    "              [7, 8, 9]])\n",
    "\n",
    "# Compute the rank of the matrix A\n",
    "rank_A = np.linalg.matrix_rank(A)\n",
    "\n",
    "print(\"Rank of matrix A:\", rank_A)\n"
   ]
  },
  {
   "cell_type": "markdown",
   "id": "1171cb84",
   "metadata": {},
   "source": [
    "#### 83. How to find the most frequent value in an array?"
   ]
  },
  {
   "cell_type": "code",
   "execution_count": 87,
   "id": "33e951c8",
   "metadata": {},
   "outputs": [
    {
     "name": "stdout",
     "output_type": "stream",
     "text": [
      "8\n"
     ]
    }
   ],
   "source": [
    "Z =np.array([3,5,6,7,8,8,6,4,3,8])\n",
    "print(np.bincount(Z).argmax())"
   ]
  },
  {
   "cell_type": "markdown",
   "id": "04f472aa",
   "metadata": {},
   "source": [
    "#### 84. Extract all the contiguous 3x3 blocks from a random 10x10 matrix"
   ]
  },
  {
   "cell_type": "code",
   "execution_count": 93,
   "id": "7aade14a",
   "metadata": {},
   "outputs": [
    {
     "name": "stdout",
     "output_type": "stream",
     "text": [
      "[[[[1 4 0]\n",
      "   [2 4 1]\n",
      "   [3 3 3]]\n",
      "\n",
      "  [[4 0 2]\n",
      "   [4 1 1]\n",
      "   [3 3 1]]\n",
      "\n",
      "  [[0 2 1]\n",
      "   [1 1 0]\n",
      "   [3 1 1]]\n",
      "\n",
      "  [[2 1 2]\n",
      "   [1 0 4]\n",
      "   [1 1 2]]\n",
      "\n",
      "  [[1 2 4]\n",
      "   [0 4 1]\n",
      "   [1 2 4]]\n",
      "\n",
      "  [[2 4 3]\n",
      "   [4 1 1]\n",
      "   [2 4 0]]\n",
      "\n",
      "  [[4 3 2]\n",
      "   [1 1 4]\n",
      "   [4 0 2]]\n",
      "\n",
      "  [[3 2 1]\n",
      "   [1 4 0]\n",
      "   [0 2 2]]]\n",
      "\n",
      "\n",
      " [[[2 4 1]\n",
      "   [3 3 3]\n",
      "   [1 1 2]]\n",
      "\n",
      "  [[4 1 1]\n",
      "   [3 3 1]\n",
      "   [1 2 4]]\n",
      "\n",
      "  [[1 1 0]\n",
      "   [3 1 1]\n",
      "   [2 4 1]]\n",
      "\n",
      "  [[1 0 4]\n",
      "   [1 1 2]\n",
      "   [4 1 1]]\n",
      "\n",
      "  [[0 4 1]\n",
      "   [1 2 4]\n",
      "   [1 1 3]]\n",
      "\n",
      "  [[4 1 1]\n",
      "   [2 4 0]\n",
      "   [1 3 3]]\n",
      "\n",
      "  [[1 1 4]\n",
      "   [4 0 2]\n",
      "   [3 3 0]]\n",
      "\n",
      "  [[1 4 0]\n",
      "   [0 2 2]\n",
      "   [3 0 0]]]\n",
      "\n",
      "\n",
      " [[[3 3 3]\n",
      "   [1 1 2]\n",
      "   [4 3 3]]\n",
      "\n",
      "  [[3 3 1]\n",
      "   [1 2 4]\n",
      "   [3 3 0]]\n",
      "\n",
      "  [[3 1 1]\n",
      "   [2 4 1]\n",
      "   [3 0 4]]\n",
      "\n",
      "  [[1 1 2]\n",
      "   [4 1 1]\n",
      "   [0 4 1]]\n",
      "\n",
      "  [[1 2 4]\n",
      "   [1 1 3]\n",
      "   [4 1 1]]\n",
      "\n",
      "  [[2 4 0]\n",
      "   [1 3 3]\n",
      "   [1 1 0]]\n",
      "\n",
      "  [[4 0 2]\n",
      "   [3 3 0]\n",
      "   [1 0 4]]\n",
      "\n",
      "  [[0 2 2]\n",
      "   [3 0 0]\n",
      "   [0 4 1]]]\n",
      "\n",
      "\n",
      " [[[1 1 2]\n",
      "   [4 3 3]\n",
      "   [4 0 3]]\n",
      "\n",
      "  [[1 2 4]\n",
      "   [3 3 0]\n",
      "   [0 3 4]]\n",
      "\n",
      "  [[2 4 1]\n",
      "   [3 0 4]\n",
      "   [3 4 2]]\n",
      "\n",
      "  [[4 1 1]\n",
      "   [0 4 1]\n",
      "   [4 2 1]]\n",
      "\n",
      "  [[1 1 3]\n",
      "   [4 1 1]\n",
      "   [2 1 1]]\n",
      "\n",
      "  [[1 3 3]\n",
      "   [1 1 0]\n",
      "   [1 1 0]]\n",
      "\n",
      "  [[3 3 0]\n",
      "   [1 0 4]\n",
      "   [1 0 4]]\n",
      "\n",
      "  [[3 0 0]\n",
      "   [0 4 1]\n",
      "   [0 4 1]]]\n",
      "\n",
      "\n",
      " [[[4 3 3]\n",
      "   [4 0 3]\n",
      "   [3 1 4]]\n",
      "\n",
      "  [[3 3 0]\n",
      "   [0 3 4]\n",
      "   [1 4 4]]\n",
      "\n",
      "  [[3 0 4]\n",
      "   [3 4 2]\n",
      "   [4 4 2]]\n",
      "\n",
      "  [[0 4 1]\n",
      "   [4 2 1]\n",
      "   [4 2 0]]\n",
      "\n",
      "  [[4 1 1]\n",
      "   [2 1 1]\n",
      "   [2 0 3]]\n",
      "\n",
      "  [[1 1 0]\n",
      "   [1 1 0]\n",
      "   [0 3 2]]\n",
      "\n",
      "  [[1 0 4]\n",
      "   [1 0 4]\n",
      "   [3 2 3]]\n",
      "\n",
      "  [[0 4 1]\n",
      "   [0 4 1]\n",
      "   [2 3 4]]]\n",
      "\n",
      "\n",
      " [[[4 0 3]\n",
      "   [3 1 4]\n",
      "   [4 1 4]]\n",
      "\n",
      "  [[0 3 4]\n",
      "   [1 4 4]\n",
      "   [1 4 1]]\n",
      "\n",
      "  [[3 4 2]\n",
      "   [4 4 2]\n",
      "   [4 1 1]]\n",
      "\n",
      "  [[4 2 1]\n",
      "   [4 2 0]\n",
      "   [1 1 2]]\n",
      "\n",
      "  [[2 1 1]\n",
      "   [2 0 3]\n",
      "   [1 2 4]]\n",
      "\n",
      "  [[1 1 0]\n",
      "   [0 3 2]\n",
      "   [2 4 1]]\n",
      "\n",
      "  [[1 0 4]\n",
      "   [3 2 3]\n",
      "   [4 1 2]]\n",
      "\n",
      "  [[0 4 1]\n",
      "   [2 3 4]\n",
      "   [1 2 0]]]\n",
      "\n",
      "\n",
      " [[[3 1 4]\n",
      "   [4 1 4]\n",
      "   [3 0 0]]\n",
      "\n",
      "  [[1 4 4]\n",
      "   [1 4 1]\n",
      "   [0 0 3]]\n",
      "\n",
      "  [[4 4 2]\n",
      "   [4 1 1]\n",
      "   [0 3 4]]\n",
      "\n",
      "  [[4 2 0]\n",
      "   [1 1 2]\n",
      "   [3 4 1]]\n",
      "\n",
      "  [[2 0 3]\n",
      "   [1 2 4]\n",
      "   [4 1 0]]\n",
      "\n",
      "  [[0 3 2]\n",
      "   [2 4 1]\n",
      "   [1 0 3]]\n",
      "\n",
      "  [[3 2 3]\n",
      "   [4 1 2]\n",
      "   [0 3 0]]\n",
      "\n",
      "  [[2 3 4]\n",
      "   [1 2 0]\n",
      "   [3 0 1]]]\n",
      "\n",
      "\n",
      " [[[4 1 4]\n",
      "   [3 0 0]\n",
      "   [1 3 4]]\n",
      "\n",
      "  [[1 4 1]\n",
      "   [0 0 3]\n",
      "   [3 4 1]]\n",
      "\n",
      "  [[4 1 1]\n",
      "   [0 3 4]\n",
      "   [4 1 1]]\n",
      "\n",
      "  [[1 1 2]\n",
      "   [3 4 1]\n",
      "   [1 1 3]]\n",
      "\n",
      "  [[1 2 4]\n",
      "   [4 1 0]\n",
      "   [1 3 2]]\n",
      "\n",
      "  [[2 4 1]\n",
      "   [1 0 3]\n",
      "   [3 2 0]]\n",
      "\n",
      "  [[4 1 2]\n",
      "   [0 3 0]\n",
      "   [2 0 4]]\n",
      "\n",
      "  [[1 2 0]\n",
      "   [3 0 1]\n",
      "   [0 4 0]]]]\n"
     ]
    }
   ],
   "source": [
    "import numpy as np\n",
    "from numpy.lib.stride_tricks import as_strided\n",
    "\n",
    "# Create a random 10x10 matrix\n",
    "Z = np.random.randint(0, 5, (10, 10))\n",
    "\n",
    "# Define block size and calculate dimensions\n",
    "n = 3\n",
    "i = 1 + (Z.shape[0] - n)\n",
    "j = 1 + (Z.shape[1] - n)\n",
    "\n",
    "# Create the view with overlapping 3x3 blocks\n",
    "C = as_strided(Z, shape=(i, j, n, n), strides=Z.strides * 2)\n",
    "\n",
    "print(C)\n"
   ]
  },
  {
   "cell_type": "markdown",
   "id": "52836346",
   "metadata": {},
   "source": [
    "#### 85. Create a 2D array subclass such that Z[i,j] == Z[j,i]"
   ]
  },
  {
   "cell_type": "code",
   "execution_count": null,
   "id": "4df70318",
   "metadata": {},
   "outputs": [],
   "source": []
  },
  {
   "cell_type": "markdown",
   "id": "78c43ee5",
   "metadata": {},
   "source": [
    "#### 86. Consider a set of p matrices with shape (n,n) and a set of p vectors with shape (n,1). How to compute the sum of of the p matrix products at once? (result has shape (n,1))"
   ]
  },
  {
   "cell_type": "code",
   "execution_count": 89,
   "id": "32fd2c3b",
   "metadata": {},
   "outputs": [
    {
     "name": "stdout",
     "output_type": "stream",
     "text": [
      "Result shape: (3, 1)\n",
      "[[9]\n",
      " [9]\n",
      " [9]]\n"
     ]
    }
   ],
   "source": [
    "\n",
    "p = 3  \n",
    "n = 3  \n",
    "matrices = np.ones((p, n, n)) \n",
    "vectors = np.ones((p, n, 1))   \n",
    "result = np.sum(np.matmul(matrices, vectors), axis=0, dtype=int32)\n",
    "print(\"Result shape:\", result.shape)\n",
    "print(result)\n"
   ]
  },
  {
   "cell_type": "markdown",
   "id": "158f9945",
   "metadata": {},
   "source": [
    "#### 87. Consider a 16x16 array, how to get the block-sum (block size is 4x4)? "
   ]
  },
  {
   "cell_type": "code",
   "execution_count": 94,
   "id": "5a9b808f",
   "metadata": {},
   "outputs": [
    {
     "name": "stdout",
     "output_type": "stream",
     "text": [
      "Original array:\n",
      "[[  0   1   2   3   4   5   6   7   8   9  10  11  12  13  14  15]\n",
      " [ 16  17  18  19  20  21  22  23  24  25  26  27  28  29  30  31]\n",
      " [ 32  33  34  35  36  37  38  39  40  41  42  43  44  45  46  47]\n",
      " [ 48  49  50  51  52  53  54  55  56  57  58  59  60  61  62  63]\n",
      " [ 64  65  66  67  68  69  70  71  72  73  74  75  76  77  78  79]\n",
      " [ 80  81  82  83  84  85  86  87  88  89  90  91  92  93  94  95]\n",
      " [ 96  97  98  99 100 101 102 103 104 105 106 107 108 109 110 111]\n",
      " [112 113 114 115 116 117 118 119 120 121 122 123 124 125 126 127]\n",
      " [128 129 130 131 132 133 134 135 136 137 138 139 140 141 142 143]\n",
      " [144 145 146 147 148 149 150 151 152 153 154 155 156 157 158 159]\n",
      " [160 161 162 163 164 165 166 167 168 169 170 171 172 173 174 175]\n",
      " [176 177 178 179 180 181 182 183 184 185 186 187 188 189 190 191]\n",
      " [192 193 194 195 196 197 198 199 200 201 202 203 204 205 206 207]\n",
      " [208 209 210 211 212 213 214 215 216 217 218 219 220 221 222 223]\n",
      " [224 225 226 227 228 229 230 231 232 233 234 235 236 237 238 239]\n",
      " [240 241 242 243 244 245 246 247 248 249 250 251 252 253 254 255]]\n",
      "\n",
      "Block sums:\n",
      "[[ 408  472  536  600]\n",
      " [1432 1496 1560 1624]\n",
      " [2456 2520 2584 2648]\n",
      " [3480 3544 3608 3672]]\n"
     ]
    }
   ],
   "source": [
    "array = np.arange(16*16).reshape(16, 16)\n",
    "block_size = 4\n",
    "reshaped = array.reshape(16//block_size, block_size, 16//block_size, block_size)\n",
    "\n",
    "block_sums = reshaped.sum(axis=(1, 3))\n",
    "print(\"Original array:\")\n",
    "print(array)\n",
    "print(\"\\nBlock sums:\")\n",
    "print(block_sums)\n"
   ]
  },
  {
   "cell_type": "markdown",
   "id": "2e0ad860",
   "metadata": {},
   "source": [
    "#### 88. How to implement the Game of Life using numpy arrays?"
   ]
  },
  {
   "cell_type": "code",
   "execution_count": null,
   "id": "574acff5",
   "metadata": {},
   "outputs": [],
   "source": []
  },
  {
   "cell_type": "markdown",
   "id": "69a892fa",
   "metadata": {},
   "source": [
    "#### 89. How to get the n largest values of an array"
   ]
  },
  {
   "cell_type": "code",
   "execution_count": 95,
   "id": "21b2bd48",
   "metadata": {},
   "outputs": [
    {
     "name": "stdout",
     "output_type": "stream",
     "text": [
      "5\n"
     ]
    }
   ],
   "source": [
    "values = [10, 5, 8, 2, 9, 3]\n",
    "n = 4\n",
    "\n",
    "sorted_values = sorted(values, reverse=True)\n",
    "\n",
    "counter = 1\n",
    "for value in sorted_values:\n",
    "    if counter == n:\n",
    "        print(value)\n",
    "        break\n",
    "    counter += 1"
   ]
  },
  {
   "cell_type": "markdown",
   "id": "b55ccacc",
   "metadata": {},
   "source": [
    "#### 90. Given an arbitrary number of vectors, build the cartesian product (every combinations of every item) "
   ]
  },
  {
   "cell_type": "code",
   "execution_count": null,
   "id": "440ebbd9",
   "metadata": {},
   "outputs": [],
   "source": []
  },
  {
   "cell_type": "code",
   "execution_count": 96,
   "id": "4b645da4",
   "metadata": {},
   "outputs": [
    {
     "name": "stdout",
     "output_type": "stream",
     "text": [
      "Cartesian product:\n",
      "[[1 4]\n",
      " [1 5]\n",
      " [1 4]\n",
      " [2 4]\n",
      " [2 5]\n",
      " [2 4]\n",
      " [3 4]\n",
      " [3 5]\n",
      " [3 4]]\n"
     ]
    }
   ],
   "source": [
    "import itertools\n",
    "import numpy as np\n",
    "\n",
    "# Define an arbitrary number of vectors\n",
    "vector1 = np.array([1, 2, 3])\n",
    "vector2 = np.array([4, 5,4])\n",
    "\n",
    "# Use itertools.product to compute the Cartesian product\n",
    "cartesian_product = list(itertools.product(vector1, vector2))\n",
    "\n",
    "# Convert the list of tuples to a numpy array\n",
    "cartesian_product_array = np.array(cartesian_product)\n",
    "\n",
    "print(\"Cartesian product:\")\n",
    "print(cartesian_product_array)\n"
   ]
  },
  {
   "cell_type": "markdown",
   "id": "89187a23",
   "metadata": {},
   "source": [
    "#### 91. How to create a record array from a regular array?"
   ]
  },
  {
   "cell_type": "code",
   "execution_count": 97,
   "id": "da94c71a",
   "metadata": {},
   "outputs": [
    {
     "name": "stdout",
     "output_type": "stream",
     "text": [
      "Structured Array:\n",
      "[(1, 10.5, 100) (2, 20.5, 200) (3, 30.5, 300)]\n"
     ]
    }
   ],
   "source": [
    "import numpy as np\n",
    "\n",
    "# Suppose you have three arrays: a1, a2, and a3\n",
    "a1 = np.array([1, 2, 3])\n",
    "a2 = np.array([10.5, 20.5, 30.5])\n",
    "a3 = np.array([100, 200, 300])\n",
    "\n",
    "# Create a structured array from the arrays\n",
    "result = np.core.records.fromarrays([a1, a2, a3], names='a,b,c')\n",
    "\n",
    "print(\"Structured Array:\")\n",
    "print(result)\n"
   ]
  },
  {
   "cell_type": "markdown",
   "id": "aa70d4ca",
   "metadata": {},
   "source": [
    "#### 92. Consider a large vector Z, compute Z to the power of 3 using 3 different methods"
   ]
  },
  {
   "cell_type": "code",
   "execution_count": 98,
   "id": "7cff1bf5",
   "metadata": {},
   "outputs": [
    {
     "name": "stdout",
     "output_type": "stream",
     "text": [
      "Method 1\n",
      "[[512 216 343 729 512]\n",
      " [216 729 729 729 729]\n",
      " [512 729 216 343 729]\n",
      " [216 512 729 343 729]\n",
      " [216 216 343 216 216]]\n",
      "Method 2\n",
      "[[512 216 343 729 512]\n",
      " [216 729 729 729 729]\n",
      " [512 729 216 343 729]\n",
      " [216 512 729 343 729]\n",
      " [216 216 343 216 216]]\n",
      "Method 3\n",
      "[[512 216 343 729 512]\n",
      " [216 729 729 729 729]\n",
      " [512 729 216 343 729]\n",
      " [216 512 729 343 729]\n",
      " [216 216 343 216 216]]\n"
     ]
    }
   ],
   "source": [
    "print(\"Method 1\")\n",
    "Z = np.random.randint(6,10,size=(5,5)) \n",
    "Z_cubed_explicit = Z * Z * Z\n",
    "print(Z_cubed_explicit)\n",
    "print(\"Method 2\")\n",
    "Z_cubed = np.power(Z, 3)\n",
    "print(Z_cubed)\n",
    "print(\"Method 3\")\n",
    "Z_cubed_alt = Z ** 3\n",
    "print(Z_cubed_alt)\n"
   ]
  },
  {
   "cell_type": "markdown",
   "id": "5f79dd00",
   "metadata": {},
   "source": [
    "#### 93. Consider two arrays A and B of shape (8,3) and (2,2). How to find rows of A that contain elements of each row of B regardless of the order of the elements in B?"
   ]
  },
  {
   "cell_type": "code",
   "execution_count": 99,
   "id": "20c105b2",
   "metadata": {},
   "outputs": [
    {
     "name": "stdout",
     "output_type": "stream",
     "text": [
      "[0 1 2 4 6 7]\n"
     ]
    }
   ],
   "source": [
    "\n",
    "\n",
    "A = np.random.randint(0,5,(8,3))\n",
    "B = np.random.randint(0,5,(2,2))\n",
    "\n",
    "C = (A[..., np.newaxis, np.newaxis] == B)\n",
    "rows = np.where(C.any((3,1)).all(1))[0]\n",
    "print(rows)"
   ]
  },
  {
   "cell_type": "markdown",
   "id": "a80570cd",
   "metadata": {},
   "source": [
    "#### 94. Considering a 10x3 matrix, extract rows with unequal values (e.g. [2,2,3])"
   ]
  },
  {
   "cell_type": "code",
   "execution_count": 100,
   "id": "84db8de1",
   "metadata": {},
   "outputs": [
    {
     "name": "stdout",
     "output_type": "stream",
     "text": [
      "Original matrix:\n",
      "[[2 1 1]\n",
      " [1 3 3]\n",
      " [1 1 1]\n",
      " [1 2 3]\n",
      " [3 2 3]\n",
      " [1 3 3]\n",
      " [3 2 3]\n",
      " [2 1 1]\n",
      " [3 2 1]\n",
      " [0 3 1]]\n",
      "\n",
      "Rows with unequal consecutive values:\n",
      "[2 1 1]\n",
      "[1 3 3]\n",
      "[1 2 3]\n",
      "[3 2 3]\n",
      "[1 3 3]\n",
      "[3 2 3]\n",
      "[2 1 1]\n",
      "[3 2 1]\n",
      "[0 3 1]\n"
     ]
    }
   ],
   "source": [
    "import numpy as np\n",
    "\n",
    "\n",
    "nums = np.random.randint(0, 4, (10, 3))\n",
    "\n",
    "\n",
    "unequal_rows = []\n",
    "\n",
    "for row in nums:\n",
    "\n",
    "    if row[0] != row[1] or row[1] != row[2]:\n",
    "        unequal_rows.append(row)\n",
    "\n",
    "\n",
    "print(\"Original matrix:\")\n",
    "print(nums)\n",
    "\n",
    "print(\"\\nRows with unequal consecutive values:\")\n",
    "for row in unequal_rows:\n",
    "    print(row)\n"
   ]
  },
  {
   "cell_type": "markdown",
   "id": "ba154f43",
   "metadata": {},
   "source": [
    "#### 95. Convert a vector of ints into a matrix binary representation"
   ]
  },
  {
   "cell_type": "code",
   "execution_count": 101,
   "id": "cfa96e1b",
   "metadata": {},
   "outputs": [
    {
     "name": "stdout",
     "output_type": "stream",
     "text": [
      "Vector:\n",
      "[1 2 0 3]\n",
      "\n",
      "Binary Matrix Representation:\n",
      "[[0 1 0 0]\n",
      " [0 0 1 0]\n",
      " [1 0 0 0]\n",
      " [0 0 0 1]]\n"
     ]
    }
   ],
   "source": [
    "import numpy as np\n",
    "\n",
    "\n",
    "vector = np.array([1, 2, 0, 3])\n",
    "num_classes = np.max(vector) + 1\n",
    "\n",
    "\n",
    "binary_matrix = np.eye(num_classes)[vector]\n",
    "\n",
    "print(\"Vector:\")\n",
    "print(vector)\n",
    "print(\"\\nBinary Matrix Representation:\")\n",
    "print(binary_matrix.astype(int))\n"
   ]
  },
  {
   "cell_type": "markdown",
   "id": "420e2343",
   "metadata": {},
   "source": [
    "#### 96. Given a two dimensional array, how to extract unique rows?"
   ]
  },
  {
   "cell_type": "code",
   "execution_count": 102,
   "id": "4680dfd0",
   "metadata": {},
   "outputs": [
    {
     "name": "stdout",
     "output_type": "stream",
     "text": [
      "Original Matrix:\n",
      "[[1 2 3]\n",
      " [4 5 6]\n",
      " [1 2 3]\n",
      " [7 8 9]]\n",
      "\n",
      "Unique Rows:\n",
      "[[1 2 3]\n",
      " [4 5 6]\n",
      " [7 8 9]]\n"
     ]
    }
   ],
   "source": [
    "import numpy as np\n",
    "\n",
    "\n",
    "matrix = np.array([[1, 2, 3],\n",
    "                   [4, 5, 6],\n",
    "                   [1, 2, 3],\n",
    "                   [7, 8, 9]])\n",
    "\n",
    "\n",
    "unique_rows = np.unique(matrix, axis=0)\n",
    "\n",
    "print(\"Original Matrix:\")\n",
    "print(matrix)\n",
    "print(\"\\nUnique Rows:\")\n",
    "print(unique_rows)\n"
   ]
  },
  {
   "cell_type": "markdown",
   "id": "89fef2f3",
   "metadata": {},
   "source": [
    "#### 97. Considering 2 vectors A & B, write the einsum equivalent of inner, outer, sum, and mul function"
   ]
  },
  {
   "cell_type": "code",
   "execution_count": 103,
   "id": "bb9c14b2",
   "metadata": {},
   "outputs": [
    {
     "name": "stdout",
     "output_type": "stream",
     "text": [
      "Inner Product: 32\n",
      "Outer Product:\n",
      "[[ 4  5  6]\n",
      " [ 8 10 12]\n",
      " [12 15 18]]\n",
      "Sum of elements: 6\n",
      "Element-wise Product:\n",
      "[ 4 10 18]\n"
     ]
    }
   ],
   "source": [
    "import numpy as np\n",
    "\n",
    "\n",
    "A = np.array([1, 2, 3])\n",
    "B = np.array([4, 5, 6])\n",
    "\n",
    "\n",
    "inner_product = np.einsum('i,i->', A, B)\n",
    "\n",
    "\n",
    "outer_product = np.einsum('i,j->ij', A, B)\n",
    "\n",
    "total_sum = np.einsum('i->', A)\n",
    "\n",
    "\n",
    "elementwise_product = np.einsum('i,i->i', A, B)\n",
    "\n",
    "\n",
    "print(\"Inner Product:\", inner_product)\n",
    "print(\"Outer Product:\")\n",
    "print(outer_product)\n",
    "print(\"Sum of elements:\", total_sum)\n",
    "print(\"Element-wise Product:\")\n",
    "print(elementwise_product)\n"
   ]
  },
  {
   "cell_type": "markdown",
   "id": "7ad5cc5f",
   "metadata": {},
   "source": [
    "#### 98. Considering a path described by two vectors (X,Y), how to sample it using equidistant samples?"
   ]
  },
  {
   "cell_type": "code",
   "execution_count": null,
   "id": "0899d1d5",
   "metadata": {},
   "outputs": [],
   "source": []
  },
  {
   "cell_type": "markdown",
   "id": "2b69272e",
   "metadata": {},
   "source": [
    "#### 99. Given an integer n and a 2D array X, select from X the rows which can be interpreted as draws from a multinomial distribution with n degrees, i.e., the rows which only contain integers and which sum to n."
   ]
  },
  {
   "cell_type": "code",
   "execution_count": 104,
   "id": "55c8b034",
   "metadata": {},
   "outputs": [
    {
     "name": "stdout",
     "output_type": "stream",
     "text": [
      "Rows from X that are draws from a multinomial distribution with sum 6 :\n",
      "[1 2 3]\n",
      "[3 1 2]\n"
     ]
    }
   ],
   "source": [
    "import numpy as np\n",
    "\n",
    "\n",
    "X = np.array([[1, 2, 3],\n",
    "              [0, 5, 5],\n",
    "              [2, 3, 4],\n",
    "              [3, 1, 2],\n",
    "              [4, 0, 3]])\n",
    "\n",
    "\n",
    "n = 6\n",
    "\n",
    "\n",
    "selected_rows = X[(X.sum(axis=1) == n) & np.all(X.astype(int) == X, axis=1)]\n",
    "\n",
    "\n",
    "print(\"Rows from X that are draws from a multinomial distribution with sum\", n, \":\")\n",
    "for row in selected_rows:\n",
    "    print(row)\n"
   ]
  },
  {
   "cell_type": "markdown",
   "id": "59ab5516",
   "metadata": {},
   "source": [
    "#### 100. Compute bootstrapped 95% confidence intervals for the mean of a 1D array X (i.e., resample the elements of an array with replacement N times, compute the mean of each sample, and then compute percentiles over the means)."
   ]
  },
  {
   "cell_type": "code",
   "execution_count": 105,
   "id": "450877d8",
   "metadata": {},
   "outputs": [
    {
     "name": "stdout",
     "output_type": "stream",
     "text": [
      "Bootstrap 95% Confidence Interval for the Mean: [3.6 7.2]\n"
     ]
    }
   ],
   "source": [
    "import numpy as np\n",
    "\n",
    "X = np.array([1, 2, 3, 4, 5, 6, 7, 8, 9, 10])\n",
    "\n",
    "N = 1000\n",
    "\n",
    "bootstrap_means = np.random.choice(X, size=(N, len(X)), replace=True).mean(axis=1)\n",
    "\n",
    "confidence_interval = np.percentile(bootstrap_means, [2.5, 97.5])\n",
    "\n",
    "print(f\"Bootstrap 95% Confidence Interval for the Mean: {confidence_interval}\")\n"
   ]
  },
  {
   "cell_type": "code",
   "execution_count": null,
   "id": "33a53ee7",
   "metadata": {},
   "outputs": [],
   "source": []
  }
 ],
 "metadata": {
  "kernelspec": {
   "display_name": "traning_env",
   "language": "python",
   "name": "traning_env"
  },
  "language_info": {
   "codemirror_mode": {
    "name": "ipython",
    "version": 3
   },
   "file_extension": ".py",
   "mimetype": "text/x-python",
   "name": "python",
   "nbconvert_exporter": "python",
   "pygments_lexer": "ipython3",
   "version": "3.11.5"
  }
 },
 "nbformat": 4,
 "nbformat_minor": 5
}
